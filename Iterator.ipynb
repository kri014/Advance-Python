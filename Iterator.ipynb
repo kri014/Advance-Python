{
 "cells": [
  {
   "cell_type": "markdown",
   "id": "25ee343d",
   "metadata": {},
   "source": [
    "#### What is an Iterarion ? \n",
    "Iteration is a genral term for taking each item of something, one after another. Any time you use loop, explicite or implicite to go over a group of items that is iteration."
   ]
  },
  {
   "cell_type": "code",
   "execution_count": 1,
   "id": "04313266",
   "metadata": {},
   "outputs": [
    {
     "name": "stdout",
     "output_type": "stream",
     "text": [
      "1\n",
      "2\n",
      "3\n"
     ]
    }
   ],
   "source": [
    "num = [1,2,3]\n",
    "for i in num:\n",
    "    print(i)"
   ]
  },
  {
   "cell_type": "markdown",
   "id": "04a45644",
   "metadata": {},
   "source": [
    "#### What is Iterator \n",
    "An iterator is an object that allows the programmers to traverse through a sequence of data without having to store the entore data in the memory"
   ]
  },
  {
   "cell_type": "code",
   "execution_count": 5,
   "id": "ed87dbcc",
   "metadata": {},
   "outputs": [
    {
     "data": {
      "text/plain": [
       "85.5625"
      ]
     },
     "execution_count": 5,
     "metadata": {},
     "output_type": "execute_result"
    }
   ],
   "source": [
    "L = [x for x in range(1,10000)]\n",
    "#for i in L:\n",
    "    #print(i*2)\n",
    "import sys \n",
    "sys.getsizeof(L)/1024\n",
    "# it takes to much memory "
   ]
  },
  {
   "cell_type": "code",
   "execution_count": 6,
   "id": "5495a7b4",
   "metadata": {},
   "outputs": [
    {
     "name": "stdout",
     "output_type": "stream",
     "text": [
      "805.1328125\n",
      "0.046875\n"
     ]
    }
   ],
   "source": [
    "L = [x for x in range(1,100000)]\n",
    "#for i in L:\n",
    "    #print(i*2)\n",
    "import sys \n",
    "print(sys.getsizeof(L)/1024)\n",
    "\n",
    "x= range(1,100000)\n",
    "\n",
    "print(sys.getsizeof(x)/1024)\n",
    "# here the range function is taking one value one by one and multiply and again takes another so it will not take that much memory "
   ]
  },
  {
   "cell_type": "markdown",
   "id": "8e937a74",
   "metadata": {},
   "source": [
    "#### What is Iterable \n",
    "- Iterator ia an Object, which one can iterate over\n",
    "- It generate an iterator when passed ro iter() method"
   ]
  },
  {
   "cell_type": "code",
   "execution_count": 8,
   "id": "bc1e7ddb",
   "metadata": {},
   "outputs": [
    {
     "data": {
      "text/plain": [
       "list_iterator"
      ]
     },
     "execution_count": 8,
     "metadata": {},
     "output_type": "execute_result"
    }
   ],
   "source": [
    "L = [1,2,3]\n",
    "type(L)\n",
    "\n",
    "# L is an Iterable \n",
    "type(iter(L))"
   ]
  },
  {
   "cell_type": "markdown",
   "id": "7666c88e",
   "metadata": {},
   "source": [
    "#### Points to remember \n",
    "- Every **Iterator** is also **Iterable**\n",
    "- Not all **Iterables** are **Iterators**"
   ]
  },
  {
   "cell_type": "markdown",
   "id": "744e7ba8",
   "metadata": {},
   "source": [
    "- here L = [x for x in range(1,100000)] we can apply loops but it is iterable but not the iterators because it takes all the item same time.  "
   ]
  },
  {
   "cell_type": "markdown",
   "id": "8ace0699",
   "metadata": {},
   "source": [
    "#### Tricks \n",
    "- Every iterable has an **iter function** \n",
    "- Every iterator has both **iter function** as well as a **next Function**"
   ]
  },
  {
   "cell_type": "code",
   "execution_count": 10,
   "id": "961298f9",
   "metadata": {},
   "outputs": [
    {
     "ename": "TypeError",
     "evalue": "'int' object is not iterable",
     "output_type": "error",
     "traceback": [
      "\u001b[1;31m---------------------------------------------------------------------------\u001b[0m",
      "\u001b[1;31mTypeError\u001b[0m                                 Traceback (most recent call last)",
      "\u001b[1;32m<ipython-input-10-deaadc5c6df9>\u001b[0m in \u001b[0;36m<module>\u001b[1;34m\u001b[0m\n\u001b[0;32m      1\u001b[0m \u001b[0ma\u001b[0m\u001b[1;33m=\u001b[0m\u001b[1;36m2\u001b[0m\u001b[1;33m\u001b[0m\u001b[1;33m\u001b[0m\u001b[0m\n\u001b[0;32m      2\u001b[0m \u001b[0ma\u001b[0m\u001b[1;33m\u001b[0m\u001b[1;33m\u001b[0m\u001b[0m\n\u001b[1;32m----> 3\u001b[1;33m \u001b[1;32mfor\u001b[0m \u001b[0mi\u001b[0m \u001b[1;32min\u001b[0m \u001b[0ma\u001b[0m\u001b[1;33m:\u001b[0m\u001b[1;33m\u001b[0m\u001b[1;33m\u001b[0m\u001b[0m\n\u001b[0m\u001b[0;32m      4\u001b[0m     \u001b[0mprint\u001b[0m\u001b[1;33m(\u001b[0m\u001b[0mi\u001b[0m\u001b[1;33m)\u001b[0m\u001b[1;33m\u001b[0m\u001b[1;33m\u001b[0m\u001b[0m\n\u001b[0;32m      5\u001b[0m \u001b[1;31m# it will give the error as not iteratble\u001b[0m\u001b[1;33m\u001b[0m\u001b[1;33m\u001b[0m\u001b[1;33m\u001b[0m\u001b[0m\n",
      "\u001b[1;31mTypeError\u001b[0m: 'int' object is not iterable"
     ]
    }
   ],
   "source": [
    "a=2 \n",
    "a\n",
    "for i in a:\n",
    "    print(i)\n",
    "# it will give the error as not iteratble \n",
    "dir(a)"
   ]
  },
  {
   "cell_type": "code",
   "execution_count": 11,
   "id": "34fd4050",
   "metadata": {},
   "outputs": [
    {
     "data": {
      "text/plain": [
       "['__abs__',\n",
       " '__add__',\n",
       " '__and__',\n",
       " '__bool__',\n",
       " '__ceil__',\n",
       " '__class__',\n",
       " '__delattr__',\n",
       " '__dir__',\n",
       " '__divmod__',\n",
       " '__doc__',\n",
       " '__eq__',\n",
       " '__float__',\n",
       " '__floor__',\n",
       " '__floordiv__',\n",
       " '__format__',\n",
       " '__ge__',\n",
       " '__getattribute__',\n",
       " '__getnewargs__',\n",
       " '__gt__',\n",
       " '__hash__',\n",
       " '__index__',\n",
       " '__init__',\n",
       " '__init_subclass__',\n",
       " '__int__',\n",
       " '__invert__',\n",
       " '__le__',\n",
       " '__lshift__',\n",
       " '__lt__',\n",
       " '__mod__',\n",
       " '__mul__',\n",
       " '__ne__',\n",
       " '__neg__',\n",
       " '__new__',\n",
       " '__or__',\n",
       " '__pos__',\n",
       " '__pow__',\n",
       " '__radd__',\n",
       " '__rand__',\n",
       " '__rdivmod__',\n",
       " '__reduce__',\n",
       " '__reduce_ex__',\n",
       " '__repr__',\n",
       " '__rfloordiv__',\n",
       " '__rlshift__',\n",
       " '__rmod__',\n",
       " '__rmul__',\n",
       " '__ror__',\n",
       " '__round__',\n",
       " '__rpow__',\n",
       " '__rrshift__',\n",
       " '__rshift__',\n",
       " '__rsub__',\n",
       " '__rtruediv__',\n",
       " '__rxor__',\n",
       " '__setattr__',\n",
       " '__sizeof__',\n",
       " '__str__',\n",
       " '__sub__',\n",
       " '__subclasshook__',\n",
       " '__truediv__',\n",
       " '__trunc__',\n",
       " '__xor__',\n",
       " 'as_integer_ratio',\n",
       " 'bit_length',\n",
       " 'conjugate',\n",
       " 'denominator',\n",
       " 'from_bytes',\n",
       " 'imag',\n",
       " 'numerator',\n",
       " 'real',\n",
       " 'to_bytes']"
      ]
     },
     "execution_count": 11,
     "metadata": {},
     "output_type": "execute_result"
    }
   ],
   "source": [
    "a=2 \n",
    "a\n",
    "#for i in a:\n",
    "    #print(i)\n",
    "# it will give the error as not iteratble \n",
    "dir(a)\n",
    "# if we get the iter in below list then it will be a itearable "
   ]
  },
  {
   "cell_type": "code",
   "execution_count": 13,
   "id": "41ef03bd",
   "metadata": {},
   "outputs": [
    {
     "data": {
      "text/plain": [
       "['__add__',\n",
       " '__class__',\n",
       " '__contains__',\n",
       " '__delattr__',\n",
       " '__dir__',\n",
       " '__doc__',\n",
       " '__eq__',\n",
       " '__format__',\n",
       " '__ge__',\n",
       " '__getattribute__',\n",
       " '__getitem__',\n",
       " '__getnewargs__',\n",
       " '__gt__',\n",
       " '__hash__',\n",
       " '__init__',\n",
       " '__init_subclass__',\n",
       " '__iter__',\n",
       " '__le__',\n",
       " '__len__',\n",
       " '__lt__',\n",
       " '__mul__',\n",
       " '__ne__',\n",
       " '__new__',\n",
       " '__reduce__',\n",
       " '__reduce_ex__',\n",
       " '__repr__',\n",
       " '__rmul__',\n",
       " '__setattr__',\n",
       " '__sizeof__',\n",
       " '__str__',\n",
       " '__subclasshook__',\n",
       " 'count',\n",
       " 'index']"
      ]
     },
     "execution_count": 13,
     "metadata": {},
     "output_type": "execute_result"
    }
   ],
   "source": [
    "t= (1,2,3)\n",
    "dir(t)\n",
    "# '__iter__' is below"
   ]
  },
  {
   "cell_type": "code",
   "execution_count": 14,
   "id": "2a565c9d",
   "metadata": {},
   "outputs": [
    {
     "data": {
      "text/plain": [
       "['__class__',\n",
       " '__contains__',\n",
       " '__delattr__',\n",
       " '__delitem__',\n",
       " '__dir__',\n",
       " '__doc__',\n",
       " '__eq__',\n",
       " '__format__',\n",
       " '__ge__',\n",
       " '__getattribute__',\n",
       " '__getitem__',\n",
       " '__gt__',\n",
       " '__hash__',\n",
       " '__init__',\n",
       " '__init_subclass__',\n",
       " '__iter__',\n",
       " '__le__',\n",
       " '__len__',\n",
       " '__lt__',\n",
       " '__ne__',\n",
       " '__new__',\n",
       " '__reduce__',\n",
       " '__reduce_ex__',\n",
       " '__repr__',\n",
       " '__reversed__',\n",
       " '__setattr__',\n",
       " '__setitem__',\n",
       " '__sizeof__',\n",
       " '__str__',\n",
       " '__subclasshook__',\n",
       " 'clear',\n",
       " 'copy',\n",
       " 'fromkeys',\n",
       " 'get',\n",
       " 'items',\n",
       " 'keys',\n",
       " 'pop',\n",
       " 'popitem',\n",
       " 'setdefault',\n",
       " 'update',\n",
       " 'values']"
      ]
     },
     "execution_count": 14,
     "metadata": {},
     "output_type": "execute_result"
    }
   ],
   "source": [
    "T ={1:2,3:4}\n",
    "dir(T)\n",
    "# '__iter__' is present so it is iterable "
   ]
  },
  {
   "cell_type": "code",
   "execution_count": 16,
   "id": "b583be3c",
   "metadata": {},
   "outputs": [
    {
     "data": {
      "text/plain": [
       "['__add__',\n",
       " '__class__',\n",
       " '__contains__',\n",
       " '__delattr__',\n",
       " '__delitem__',\n",
       " '__dir__',\n",
       " '__doc__',\n",
       " '__eq__',\n",
       " '__format__',\n",
       " '__ge__',\n",
       " '__getattribute__',\n",
       " '__getitem__',\n",
       " '__gt__',\n",
       " '__hash__',\n",
       " '__iadd__',\n",
       " '__imul__',\n",
       " '__init__',\n",
       " '__init_subclass__',\n",
       " '__iter__',\n",
       " '__le__',\n",
       " '__len__',\n",
       " '__lt__',\n",
       " '__mul__',\n",
       " '__ne__',\n",
       " '__new__',\n",
       " '__reduce__',\n",
       " '__reduce_ex__',\n",
       " '__repr__',\n",
       " '__reversed__',\n",
       " '__rmul__',\n",
       " '__setattr__',\n",
       " '__setitem__',\n",
       " '__sizeof__',\n",
       " '__str__',\n",
       " '__subclasshook__',\n",
       " 'append',\n",
       " 'clear',\n",
       " 'copy',\n",
       " 'count',\n",
       " 'extend',\n",
       " 'index',\n",
       " 'insert',\n",
       " 'pop',\n",
       " 'remove',\n",
       " 'reverse',\n",
       " 'sort']"
      ]
     },
     "execution_count": 16,
     "metadata": {},
     "output_type": "execute_result"
    }
   ],
   "source": [
    "### to get the iterator \n",
    "L = [1,2,3]\n",
    "dir(L)\n",
    "# if Iter and next is not present then it is not a iterator \n",
    "# list is not an iterator as next is not present "
   ]
  },
  {
   "cell_type": "code",
   "execution_count": 19,
   "id": "b3d65847",
   "metadata": {},
   "outputs": [
    {
     "data": {
      "text/plain": [
       "['__class__',\n",
       " '__delattr__',\n",
       " '__dir__',\n",
       " '__doc__',\n",
       " '__eq__',\n",
       " '__format__',\n",
       " '__ge__',\n",
       " '__getattribute__',\n",
       " '__gt__',\n",
       " '__hash__',\n",
       " '__init__',\n",
       " '__init_subclass__',\n",
       " '__iter__',\n",
       " '__le__',\n",
       " '__length_hint__',\n",
       " '__lt__',\n",
       " '__ne__',\n",
       " '__new__',\n",
       " '__next__',\n",
       " '__reduce__',\n",
       " '__reduce_ex__',\n",
       " '__repr__',\n",
       " '__setattr__',\n",
       " '__setstate__',\n",
       " '__sizeof__',\n",
       " '__str__',\n",
       " '__subclasshook__']"
      ]
     },
     "execution_count": 19,
     "metadata": {},
     "output_type": "execute_result"
    }
   ],
   "source": [
    "# But we can make iterators from iterable using iter() function.\n",
    "L = [1,2,3]\n",
    "\n",
    "# L is not an iterator \n",
    "iter_L=iter(L)\n",
    "\n",
    "# iter_L is an itertor \n",
    "dir(iter_L)"
   ]
  },
  {
   "cell_type": "markdown",
   "id": "56aa5636",
   "metadata": {},
   "source": [
    "#### Understanding how for loops works "
   ]
  },
  {
   "cell_type": "code",
   "execution_count": 20,
   "id": "97b47579",
   "metadata": {},
   "outputs": [
    {
     "name": "stdout",
     "output_type": "stream",
     "text": [
      "1\n",
      "2\n",
      "3\n"
     ]
    }
   ],
   "source": [
    "num = [1,2,3]\n",
    "for i in num:\n",
    "    print(i)"
   ]
  },
  {
   "cell_type": "code",
   "execution_count": 22,
   "id": "57522209",
   "metadata": {},
   "outputs": [
    {
     "data": {
      "text/plain": [
       "3"
      ]
     },
     "execution_count": 22,
     "metadata": {},
     "output_type": "execute_result"
    }
   ],
   "source": [
    "num = [1,2,3]\n",
    "\n",
    "# fetch the iterator \n",
    "iter_num= iter(num)\n",
    "\n",
    "# step2-> next() -> to get the next item \n",
    "next(iter_num)\n",
    "next(iter_num)\n",
    "next(iter_num)\n"
   ]
  },
  {
   "cell_type": "code",
   "execution_count": 23,
   "id": "278bac39",
   "metadata": {},
   "outputs": [
    {
     "ename": "StopIteration",
     "evalue": "",
     "output_type": "error",
     "traceback": [
      "\u001b[1;31m---------------------------------------------------------------------------\u001b[0m",
      "\u001b[1;31mStopIteration\u001b[0m                             Traceback (most recent call last)",
      "\u001b[1;32m<ipython-input-23-35ee4d0d6289>\u001b[0m in \u001b[0;36m<module>\u001b[1;34m\u001b[0m\n\u001b[0;32m      8\u001b[0m \u001b[0mnext\u001b[0m\u001b[1;33m(\u001b[0m\u001b[0miter_num\u001b[0m\u001b[1;33m)\u001b[0m\u001b[1;33m\u001b[0m\u001b[1;33m\u001b[0m\u001b[0m\n\u001b[0;32m      9\u001b[0m \u001b[0mnext\u001b[0m\u001b[1;33m(\u001b[0m\u001b[0miter_num\u001b[0m\u001b[1;33m)\u001b[0m\u001b[1;33m\u001b[0m\u001b[1;33m\u001b[0m\u001b[0m\n\u001b[1;32m---> 10\u001b[1;33m \u001b[0mnext\u001b[0m\u001b[1;33m(\u001b[0m\u001b[0miter_num\u001b[0m\u001b[1;33m)\u001b[0m\u001b[1;33m\u001b[0m\u001b[1;33m\u001b[0m\u001b[0m\n\u001b[0m\u001b[0;32m     11\u001b[0m \u001b[1;33m\u001b[0m\u001b[0m\n",
      "\u001b[1;31mStopIteration\u001b[0m: "
     ]
    }
   ],
   "source": [
    "num = [1,2,3]\n",
    "\n",
    "# fetch the iterator \n",
    "iter_num= iter(num)\n",
    "\n",
    "# step2-> next\n",
    "next(iter_num)\n",
    "next(iter_num)\n",
    "next(iter_num)\n",
    "next(iter_num)\n",
    "\n"
   ]
  },
  {
   "cell_type": "markdown",
   "id": "e67463c2",
   "metadata": {},
   "source": [
    " Behind the scene of for loop the for loop function create the fetech item and using the next function it get the item of num "
   ]
  },
  {
   "cell_type": "markdown",
   "id": "855e192b",
   "metadata": {},
   "source": [
    "#### Making our own for loops  "
   ]
  },
  {
   "cell_type": "code",
   "execution_count": 25,
   "id": "be5ee4f9",
   "metadata": {},
   "outputs": [],
   "source": [
    "def mera_khudka_for_loop(iterable):\n",
    "    iterator=iter(iterable)\n",
    "    while True:\n",
    "        try:\n",
    "            print(next(iterator))\n",
    "        except StopIteration:\n",
    "            break\n",
    "        "
   ]
  },
  {
   "cell_type": "code",
   "execution_count": 26,
   "id": "5978fb26",
   "metadata": {},
   "outputs": [
    {
     "name": "stdout",
     "output_type": "stream",
     "text": [
      "1\n",
      "2\n",
      "3\n"
     ]
    }
   ],
   "source": [
    "a=[1,2,3]\n",
    "b=range(1,11)\n",
    "c=(1,2,3)\n",
    "d={1,2,3}\n",
    "f={1:3,2:4}\n",
    "\n",
    "mera_khudka_for_loop(a)"
   ]
  },
  {
   "cell_type": "code",
   "execution_count": 29,
   "id": "d8f1b26d",
   "metadata": {},
   "outputs": [
    {
     "name": "stdout",
     "output_type": "stream",
     "text": [
      "1\n",
      "2\n"
     ]
    }
   ],
   "source": [
    "mera_khudka_for_loop(f)"
   ]
  },
  {
   "cell_type": "markdown",
   "id": "622fc230",
   "metadata": {},
   "source": [
    "#### A confusing point"
   ]
  },
  {
   "cell_type": "code",
   "execution_count": 31,
   "id": "1b242a77",
   "metadata": {},
   "outputs": [
    {
     "name": "stdout",
     "output_type": "stream",
     "text": [
      "1538877210336 Address of iterator1\n",
      "1538877210336 Address of iterator2\n"
     ]
    }
   ],
   "source": [
    "num = [1,2,3]\n",
    "iter_obj=iter(num)\n",
    "\n",
    "print(id(iter_obj),\"Address of iterator1\")\n",
    "\n",
    "iter_obj2=iter(iter_obj)\n",
    "print(id(iter_obj2),\"Address of iterator2\")\n",
    "\n",
    "# both are having same address it means that both the same object "
   ]
  },
  {
   "cell_type": "markdown",
   "id": "3eab888c",
   "metadata": {},
   "source": [
    "#### Creating own range function "
   ]
  },
  {
   "cell_type": "code",
   "execution_count": 36,
   "id": "a1e88903",
   "metadata": {},
   "outputs": [],
   "source": [
    "class mera_range:\n",
    "    def __init__(self,start,end):\n",
    "        self.start = start\n",
    "        self.end=end\n",
    "        \n",
    "    def __iter__(self):\n",
    "        return mera_range_iterator(self)\n",
    "    "
   ]
  },
  {
   "cell_type": "code",
   "execution_count": 33,
   "id": "12501020",
   "metadata": {},
   "outputs": [],
   "source": [
    "class mera_range_iterator:\n",
    "    def __init__(self,iterable_obj):\n",
    "        self.iterable=iterable_obj\n",
    "        \n",
    "    def __iter__(self):\n",
    "        return self\n",
    "    def __next__(self):\n",
    "        if self.iterable.start>=self.iterable.end:\n",
    "            raise StopIteration\n",
    "            \n",
    "        current = self.iterable.start\n",
    "        self.iterable.start+=1\n",
    "        return current"
   ]
  },
  {
   "cell_type": "code",
   "execution_count": 37,
   "id": "3095069a",
   "metadata": {},
   "outputs": [
    {
     "name": "stdout",
     "output_type": "stream",
     "text": [
      "1\n",
      "2\n",
      "3\n",
      "4\n",
      "5\n",
      "6\n",
      "7\n",
      "8\n",
      "9\n",
      "10\n"
     ]
    }
   ],
   "source": [
    "for i in mera_range(1,11):\n",
    "    print(i)"
   ]
  },
  {
   "cell_type": "code",
   "execution_count": null,
   "id": "93a64c95",
   "metadata": {},
   "outputs": [],
   "source": [
    "# application \n",
    "# it helps to get the iteration of huge file which without loading the intire memory.\n"
   ]
  }
 ],
 "metadata": {
  "kernelspec": {
   "display_name": "Python 3",
   "language": "python",
   "name": "python3"
  },
  "language_info": {
   "codemirror_mode": {
    "name": "ipython",
    "version": 3
   },
   "file_extension": ".py",
   "mimetype": "text/x-python",
   "name": "python",
   "nbconvert_exporter": "python",
   "pygments_lexer": "ipython3",
   "version": "3.8.8"
  }
 },
 "nbformat": 4,
 "nbformat_minor": 5
}
