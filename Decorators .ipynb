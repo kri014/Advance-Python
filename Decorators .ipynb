{
 "cells": [
  {
   "cell_type": "markdown",
   "id": "dd9bcc76",
   "metadata": {},
   "source": [
    "### Decorators \n",
    "A decorators is python function that recieves another function as input and adds some fuanctionality(decoration) to and it and returns it.\n",
    "\n",
    "This can happens only because pyhton functions are 1st class citizens.\n",
    "There are 2 types of decorators available in python\n",
    "- **Built-in decorators** like **@staticmethod**, **@ classmethod**,**@abstractmethod** and **@property** etc\n",
    "- **Users defines** decorators that we programmers can create according to our needs "
   ]
  },
  {
   "cell_type": "code",
   "execution_count": 1,
   "id": "425f0ba1",
   "metadata": {},
   "outputs": [
    {
     "name": "stdout",
     "output_type": "stream",
     "text": [
      "hello\n"
     ]
    }
   ],
   "source": [
    "# pyhthon are 1st class function\n",
    "def func():\n",
    "    print(\"hello\")\n",
    "a=func\n",
    "a()\n",
    "# here we are making a as a function     "
   ]
  },
  {
   "cell_type": "code",
   "execution_count": 2,
   "id": "5d3bc849",
   "metadata": {},
   "outputs": [
    {
     "ename": "NameError",
     "evalue": "name 'func' is not defined",
     "output_type": "error",
     "traceback": [
      "\u001b[1;31m---------------------------------------------------------------------------\u001b[0m",
      "\u001b[1;31mNameError\u001b[0m                                 Traceback (most recent call last)",
      "\u001b[1;32m<ipython-input-2-f94e9fceb6e0>\u001b[0m in \u001b[0;36m<module>\u001b[1;34m\u001b[0m\n\u001b[0;32m      3\u001b[0m     \u001b[0mprint\u001b[0m\u001b[1;33m(\u001b[0m\u001b[1;34m\"hello\"\u001b[0m\u001b[1;33m)\u001b[0m\u001b[1;33m\u001b[0m\u001b[1;33m\u001b[0m\u001b[0m\n\u001b[0;32m      4\u001b[0m \u001b[1;32mdel\u001b[0m \u001b[0mfunc\u001b[0m\u001b[1;33m\u001b[0m\u001b[1;33m\u001b[0m\u001b[0m\n\u001b[1;32m----> 5\u001b[1;33m \u001b[0mfunc\u001b[0m\u001b[1;33m(\u001b[0m\u001b[1;33m)\u001b[0m\u001b[1;33m\u001b[0m\u001b[1;33m\u001b[0m\u001b[0m\n\u001b[0m",
      "\u001b[1;31mNameError\u001b[0m: name 'func' is not defined"
     ]
    }
   ],
   "source": [
    "# we can delete the function too \n",
    "def func():\n",
    "    print(\"hello\")\n",
    "del func\n",
    "func()"
   ]
  },
  {
   "cell_type": "code",
   "execution_count": 3,
   "id": "543650af",
   "metadata": {},
   "outputs": [
    {
     "data": {
      "text/plain": [
       "4"
      ]
     },
     "execution_count": 3,
     "metadata": {},
     "output_type": "execute_result"
    }
   ],
   "source": [
    "def modify(func,num):\n",
    "    return func(num)\n",
    "def square(num):\n",
    "    return num*2\n",
    "modify(square,2)"
   ]
  },
  {
   "cell_type": "code",
   "execution_count": 6,
   "id": "f12ee7fe",
   "metadata": {},
   "outputs": [
    {
     "name": "stdout",
     "output_type": "stream",
     "text": [
      "************************************\n",
      "Hello\n",
      "************************************\n",
      "************************************\n",
      "Hello Nitish\n",
      "************************************\n"
     ]
    }
   ],
   "source": [
    "def my_decorator(func):\n",
    "    def wrapper():\n",
    "        print(\"************************************\")\n",
    "        func()\n",
    "        print(\"************************************\")\n",
    "    return wrapper\n",
    "\n",
    "def hello():\n",
    "    print(\"Hello\")\n",
    "def display():\n",
    "    print(\"Hello Nitish\")\n",
    "a= my_decorator(hello)\n",
    "a()\n",
    "\n",
    "b= my_decorator(display)\n",
    "b()"
   ]
  },
  {
   "cell_type": "code",
   "execution_count": 7,
   "id": "3eb5dee5",
   "metadata": {},
   "outputs": [
    {
     "name": "stdout",
     "output_type": "stream",
     "text": [
      "************************************\n",
      "Hello\n",
      "************************************\n"
     ]
    }
   ],
   "source": [
    "# in short form using @decorater_name \n",
    "def my_decorator(func):\n",
    "    def wrapper():\n",
    "        print(\"************************************\")\n",
    "        func()\n",
    "        print(\"************************************\")\n",
    "    return wrapper\n",
    "\n",
    "@my_decorator\n",
    "def hello():\n",
    "    print(\"Hello\")\n",
    "hello()"
   ]
  },
  {
   "cell_type": "code",
   "execution_count": 8,
   "id": "a7281704",
   "metadata": {},
   "outputs": [],
   "source": [
    "# anything meaningful\n",
    "# creating a decoratores which calculate the time of execcution of function "
   ]
  },
  {
   "cell_type": "code",
   "execution_count": 12,
   "id": "90413163",
   "metadata": {},
   "outputs": [
    {
     "name": "stdout",
     "output_type": "stream",
     "text": [
      "hello world\n",
      "time taken by :  hello 2.0060431957244873 secs\n",
      "display timer \n",
      "time taken by :  display 4.006605625152588 secs\n"
     ]
    }
   ],
   "source": [
    "import time \n",
    "def timer(func):\n",
    "    def wrapper():\n",
    "        start=time.time()\n",
    "        func()\n",
    "        print(\"time taken by : \",func.__name__,time.time()-start,\"secs\")\n",
    "    return wrapper\n",
    "@timer\n",
    "def hello():\n",
    "    print(\"hello world\")\n",
    "    time.sleep(2)\n",
    "@timer    \n",
    "def display():\n",
    "    print(\"display timer \")\n",
    "    time.sleep(4)\n",
    "hello()   \n",
    "display()"
   ]
  },
  {
   "cell_type": "code",
   "execution_count": 14,
   "id": "5e9fdacf",
   "metadata": {},
   "outputs": [
    {
     "name": "stdout",
     "output_type": "stream",
     "text": [
      "hello world\n",
      "time taken by :  hello 2.0026323795318604 secs\n",
      "display timer \n",
      "time taken by :  display 4.01421594619751 secs\n"
     ]
    },
    {
     "ename": "TypeError",
     "evalue": "wrapper() takes 0 positional arguments but 1 was given",
     "output_type": "error",
     "traceback": [
      "\u001b[1;31m---------------------------------------------------------------------------\u001b[0m",
      "\u001b[1;31mTypeError\u001b[0m                                 Traceback (most recent call last)",
      "\u001b[1;32m<ipython-input-14-2b8e6e670d21>\u001b[0m in \u001b[0;36m<module>\u001b[1;34m\u001b[0m\n\u001b[0;32m     21\u001b[0m \u001b[0mhello\u001b[0m\u001b[1;33m(\u001b[0m\u001b[1;33m)\u001b[0m\u001b[1;33m\u001b[0m\u001b[1;33m\u001b[0m\u001b[0m\n\u001b[0;32m     22\u001b[0m \u001b[0mdisplay\u001b[0m\u001b[1;33m(\u001b[0m\u001b[1;33m)\u001b[0m\u001b[1;33m\u001b[0m\u001b[1;33m\u001b[0m\u001b[0m\n\u001b[1;32m---> 23\u001b[1;33m \u001b[0msquare\u001b[0m\u001b[1;33m(\u001b[0m\u001b[1;36m2\u001b[0m\u001b[1;33m)\u001b[0m\u001b[1;33m\u001b[0m\u001b[1;33m\u001b[0m\u001b[0m\n\u001b[0m",
      "\u001b[1;31mTypeError\u001b[0m: wrapper() takes 0 positional arguments but 1 was given"
     ]
    }
   ],
   "source": [
    "import time \n",
    "def timer(func):\n",
    "    def wrapper():\n",
    "        start=time.time()\n",
    "        func()\n",
    "        print(\"time taken by : \",func.__name__,time.time()-start,\"secs\")\n",
    "    return wrapper\n",
    "@timer\n",
    "def hello():\n",
    "    print(\"hello world\")\n",
    "    time.sleep(2)\n",
    "@timer    \n",
    "def display():\n",
    "    print(\"display timer \")\n",
    "    time.sleep(4)\n",
    "    \n",
    "@timer\n",
    "def square(num):\n",
    "    time.sleep(2)\n",
    "    return num*2\n",
    "hello()   \n",
    "display()\n",
    "square(2) \n",
    "# this will throw error since we don't have any input value to the func\n",
    "# this will only work for the function without input any value  "
   ]
  },
  {
   "cell_type": "code",
   "execution_count": 17,
   "id": "0122825a",
   "metadata": {},
   "outputs": [
    {
     "name": "stdout",
     "output_type": "stream",
     "text": [
      "hello world\n",
      "time taken by :  hello 2.0100200176239014 secs\n",
      "4\n",
      "time taken by :  square 1.0125672817230225 secs\n"
     ]
    }
   ],
   "source": [
    "import time \n",
    "def timer(func):\n",
    "    def wrapper(*args):\n",
    "        start=time.time()\n",
    "        func(*args)\n",
    "        print(\"time taken by : \",func.__name__,time.time()-start,\"secs\")\n",
    "    return wrapper\n",
    "@timer\n",
    "def hello():\n",
    "    print(\"hello world\")\n",
    "    time.sleep(2)\n",
    "@timer\n",
    "def square(num):\n",
    "    time.sleep(1)\n",
    "    print(num*2)\n",
    "hello()   \n",
    "square(2)"
   ]
  },
  {
   "cell_type": "code",
   "execution_count": 18,
   "id": "fb6bcc24",
   "metadata": {},
   "outputs": [
    {
     "name": "stdout",
     "output_type": "stream",
     "text": [
      "hello world\n",
      "time taken by :  hello 2.0033605098724365 secs\n",
      "4\n",
      "time taken by :  square 1.009734869003296 secs\n",
      "81\n",
      "time taken by :  power 3.009500026702881 secs\n"
     ]
    }
   ],
   "source": [
    "import time \n",
    "def timer(func):\n",
    "    def wrapper(*args):\n",
    "        start=time.time()\n",
    "        func(*args)\n",
    "        print(\"time taken by : \",func.__name__,time.time()-start,\"secs\")\n",
    "    return wrapper\n",
    "@timer\n",
    "def hello():\n",
    "    print(\"hello world\")\n",
    "    time.sleep(2)\n",
    "@timer\n",
    "def square(num):\n",
    "    time.sleep(1)\n",
    "    print(num*2)\n",
    "@timer\n",
    "def power(a,b):\n",
    "    time.sleep(3)\n",
    "    print(a**b)\n",
    "hello()   \n",
    "square(2)\n",
    "power(3,4)"
   ]
  },
  {
   "cell_type": "code",
   "execution_count": 23,
   "id": "dd910ecf",
   "metadata": {},
   "outputs": [
    {
     "name": "stdout",
     "output_type": "stream",
     "text": [
      "6\n",
      "hello mohit\n"
     ]
    }
   ],
   "source": [
    "# a big problem\n",
    "\n",
    "def sanity_check(data_type):\n",
    "    def outer_wrapper(func):\n",
    "        def inner_wrapper(*args):\n",
    "            if type(args[0])==data_type:\n",
    "                func(*args)\n",
    "            else:\n",
    "                raise TypeError(\"Ye nahi chalega\")\n",
    "        return inner_wrapper\n",
    "    return outer_wrapper\n",
    "@sanity_check(int)\n",
    "def square(num):\n",
    "    print(num*2)\n",
    "square(3)\n",
    "\n",
    "@sanity_check(str)\n",
    "def greet(name):\n",
    "    print(\"hello\",name)\n",
    "greet(\"mohit\")"
   ]
  },
  {
   "cell_type": "code",
   "execution_count": 24,
   "id": "38198876",
   "metadata": {},
   "outputs": [
    {
     "name": "stdout",
     "output_type": "stream",
     "text": [
      "6\n",
      "hello mohit\n"
     ]
    }
   ],
   "source": [
    "# a big problem\n",
    "\n",
    "def sanity_check(data_type):\n",
    "    def outer_wrapper(func):\n",
    "        def inner_wrapper(*args):\n",
    "            if type(*args)==data_type:\n",
    "                func(*args)\n",
    "            else:\n",
    "                raise TypeError(\"Ye nahi chalega\")\n",
    "        return inner_wrapper\n",
    "    return outer_wrapper\n",
    "@sanity_check(int)\n",
    "def square(num):\n",
    "    print(num*2)\n",
    "square(3)\n",
    "\n",
    "@sanity_check(str)\n",
    "def greet(name):\n",
    "    print(\"hello\",name)\n",
    "greet(\"mohit\")"
   ]
  },
  {
   "cell_type": "code",
   "execution_count": null,
   "id": "d21ab6d1",
   "metadata": {},
   "outputs": [],
   "source": []
  }
 ],
 "metadata": {
  "kernelspec": {
   "display_name": "Python 3",
   "language": "python",
   "name": "python3"
  },
  "language_info": {
   "codemirror_mode": {
    "name": "ipython",
    "version": 3
   },
   "file_extension": ".py",
   "mimetype": "text/x-python",
   "name": "python",
   "nbconvert_exporter": "python",
   "pygments_lexer": "ipython3",
   "version": "3.8.8"
  }
 },
 "nbformat": 4,
 "nbformat_minor": 5
}
