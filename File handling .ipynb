{
 "cells": [
  {
   "cell_type": "markdown",
   "id": "4a76fce6",
   "metadata": {},
   "source": [
    "Types of data we use for I/O \n",
    "1. Text -\"12345\" as a sequence of unicode chars \n",
    "2. Binary - 12345 as a squence of bytes of its binary (0,1) equivalet \n",
    "\n",
    "Hence there are 2 files types to deal with \n",
    "1. Text files- All Programs files are the text files\n",
    "2. Binary files - Images,music video,exe files "
   ]
  },
  {
   "cell_type": "markdown",
   "id": "e35275cd",
   "metadata": {},
   "source": [
    "How file I/O is done in most programming language \n",
    "- Open a file \n",
    "- Read / Write data \n",
    "- Close the file "
   ]
  },
  {
   "cell_type": "markdown",
   "id": "87eec2b1",
   "metadata": {},
   "source": [
    "## Writing to a file "
   ]
  },
  {
   "cell_type": "code",
   "execution_count": 3,
   "id": "531287ae",
   "metadata": {},
   "outputs": [],
   "source": [
    "# Case 1- If the file is not present \n",
    "f=open(\"sample.txt\",\"w\")\n",
    "f.write(\"Hello World\")\n",
    "f.close()"
   ]
  },
  {
   "cell_type": "code",
   "execution_count": 4,
   "id": "5fc47d97",
   "metadata": {},
   "outputs": [
    {
     "ename": "ValueError",
     "evalue": "I/O operation on closed file.",
     "output_type": "error",
     "traceback": [
      "\u001b[1;31m---------------------------------------------------------------------------\u001b[0m",
      "\u001b[1;31mValueError\u001b[0m                                Traceback (most recent call last)",
      "\u001b[1;32m<ipython-input-4-0711388f6995>\u001b[0m in \u001b[0;36m<module>\u001b[1;34m\u001b[0m\n\u001b[1;32m----> 1\u001b[1;33m \u001b[0mf\u001b[0m\u001b[1;33m.\u001b[0m\u001b[0mwrite\u001b[0m\u001b[1;33m(\u001b[0m\u001b[1;34m\"hello world\"\u001b[0m\u001b[1;33m)\u001b[0m\u001b[1;33m\u001b[0m\u001b[1;33m\u001b[0m\u001b[0m\n\u001b[0m",
      "\u001b[1;31mValueError\u001b[0m: I/O operation on closed file."
     ]
    }
   ],
   "source": [
    "f.write(\"hello world\")"
   ]
  },
  {
   "cell_type": "code",
   "execution_count": 6,
   "id": "7cf4f93f",
   "metadata": {},
   "outputs": [],
   "source": [
    "# Write on multiple lines (strings )\n",
    "f= open(\"sample1.txt\",\"w\")\n",
    "f.write(\"Hello World\")\n",
    "f.write(\"\\n How are You\")\n",
    "f.close()"
   ]
  },
  {
   "cell_type": "code",
   "execution_count": 8,
   "id": "28af75b1",
   "metadata": {},
   "outputs": [],
   "source": [
    "# case 2: if the file is already present \n",
    "f= open(\"sample.txt\",\"w\")\n",
    "f.write(\"\\n salman Khan \")\n",
    "f.close()\n",
    "\n",
    "# if we are writing the existing file it will overwrite the string"
   ]
  },
  {
   "cell_type": "markdown",
   "id": "208446a4",
   "metadata": {},
   "source": [
    "How exactly open works?\n",
    "- when we execute the open function the file which is present in the ram is temporarly comes to the rom. \n",
    "- it will remains on rom till close() function execute before that we can write in the file "
   ]
  },
  {
   "cell_type": "markdown",
   "id": "7bffcd32",
   "metadata": {},
   "source": [
    " Problem with w mode\n",
    "- it will replace the old data "
   ]
  },
  {
   "cell_type": "markdown",
   "id": "0a41e6a1",
   "metadata": {},
   "source": [
    "#### Append mode "
   ]
  },
  {
   "cell_type": "code",
   "execution_count": 10,
   "id": "e17e6d77",
   "metadata": {},
   "outputs": [],
   "source": [
    "f=open(\"sample1.txt\",\"a\")\n",
    "f.write(\"\\n I am fine \")\n",
    "f.close()"
   ]
  },
  {
   "cell_type": "code",
   "execution_count": 12,
   "id": "8c3619b8",
   "metadata": {},
   "outputs": [],
   "source": [
    "# write the lines \n",
    "L =[\"hello\\n\",\"Hi\\n\",\"Give me a chance to move forward\"]\n",
    "\n",
    "f=open(\"sample.txt\",\"w\")\n",
    "f.writelines(L)\n",
    "f.close()"
   ]
  },
  {
   "cell_type": "markdown",
   "id": "54d90c3e",
   "metadata": {},
   "source": [
    "Why we close() the file?\n",
    "- the file is open in the rom it will remains in rom till we close so it will consume the the memory more and more \n",
    "- safety perpose "
   ]
  },
  {
   "cell_type": "markdown",
   "id": "9b83a711",
   "metadata": {},
   "source": [
    "#### Reading "
   ]
  },
  {
   "cell_type": "code",
   "execution_count": 14,
   "id": "47087105",
   "metadata": {},
   "outputs": [
    {
     "name": "stdout",
     "output_type": "stream",
     "text": [
      "hello\n",
      "Hi\n",
      "Give me a chance to move forward\n"
     ]
    }
   ],
   "source": [
    "# using- read()\n",
    "f= open(\"sample.txt\",\"r\")\n",
    "s=f.read()\n",
    "print(s)\n",
    "f.close()"
   ]
  },
  {
   "cell_type": "code",
   "execution_count": 15,
   "id": "1c242665",
   "metadata": {},
   "outputs": [
    {
     "name": "stdout",
     "output_type": "stream",
     "text": [
      "hello\n",
      "Hi\n",
      "G\n"
     ]
    }
   ],
   "source": [
    "# readinf upto n chars\n",
    "f= open(\"sample.txt\",\"r\")\n",
    "s=f.read(10) # only 10 characters\n",
    "print(s)\n",
    "f.close()"
   ]
  },
  {
   "cell_type": "code",
   "execution_count": 20,
   "id": "b8e82640",
   "metadata": {},
   "outputs": [
    {
     "name": "stdout",
     "output_type": "stream",
     "text": [
      "hello\n",
      "\n",
      "Hi\n",
      "\n"
     ]
    }
   ],
   "source": [
    "# readline() -> read the line line by lines\n",
    "f= open(\"sample.txt\",\"r\")\n",
    "print(f.readline()) \n",
    "print(f.readline())\n",
    "f.close()\n",
    "# extra lines comes in the reading "
   ]
  },
  {
   "cell_type": "code",
   "execution_count": 21,
   "id": "6caadd31",
   "metadata": {},
   "outputs": [
    {
     "name": "stdout",
     "output_type": "stream",
     "text": [
      "hello\n",
      "Hi\n"
     ]
    }
   ],
   "source": [
    "f= open(\"sample.txt\",\"r\")\n",
    "print(f.readline(),end=\"\") \n",
    "print(f.readline(),end=\"\")\n",
    "f.close()"
   ]
  },
  {
   "cell_type": "code",
   "execution_count": 22,
   "id": "6fce76f4",
   "metadata": {},
   "outputs": [
    {
     "name": "stdout",
     "output_type": "stream",
     "text": [
      "hello\n",
      "Hi\n",
      "Give me a chance to move forward"
     ]
    }
   ],
   "source": [
    "# Reading Entire lines\n",
    "\n",
    "f= open(\"sample.txt\",\"r\")\n",
    "\n",
    "while True:\n",
    "    data= f.readline()\n",
    "    if data==\"\":\n",
    "        break\n",
    "    else:\n",
    "        print(data,end=\"\")\n",
    "        \n",
    "f.close()"
   ]
  },
  {
   "cell_type": "markdown",
   "id": "f4ad091a",
   "metadata": {},
   "source": [
    "#### using Context Manager(With)\n",
    "- It's a good idea to close a file usage as it will free up \n",
    "- If we don't close it, gradbage collector would close it\n",
    "- with keyword closes the file as soon as the usage is over "
   ]
  },
  {
   "cell_type": "code",
   "execution_count": 23,
   "id": "43d98dfa",
   "metadata": {},
   "outputs": [],
   "source": [
    "# with \n",
    "with open(\"sample1.txt\",\"w\") as f:\n",
    "    f.write(\"Selmon Bhai macha de\")"
   ]
  },
  {
   "cell_type": "code",
   "execution_count": 24,
   "id": "49207291",
   "metadata": {},
   "outputs": [
    {
     "ename": "ValueError",
     "evalue": "I/O operation on closed file.",
     "output_type": "error",
     "traceback": [
      "\u001b[1;31m---------------------------------------------------------------------------\u001b[0m",
      "\u001b[1;31mValueError\u001b[0m                                Traceback (most recent call last)",
      "\u001b[1;32m<ipython-input-24-18fc464dd662>\u001b[0m in \u001b[0;36m<module>\u001b[1;34m\u001b[0m\n\u001b[1;32m----> 1\u001b[1;33m \u001b[0mf\u001b[0m\u001b[1;33m.\u001b[0m\u001b[0mwrite\u001b[0m\u001b[1;33m(\u001b[0m\u001b[1;34m\"hello\"\u001b[0m\u001b[1;33m)\u001b[0m\u001b[1;33m\u001b[0m\u001b[1;33m\u001b[0m\u001b[0m\n\u001b[0m",
      "\u001b[1;31mValueError\u001b[0m: I/O operation on closed file."
     ]
    }
   ],
   "source": [
    "f.write(\"hello\")"
   ]
  },
  {
   "cell_type": "code",
   "execution_count": 25,
   "id": "aa7c46ca",
   "metadata": {},
   "outputs": [
    {
     "name": "stdout",
     "output_type": "stream",
     "text": [
      "hello\n",
      "Hi\n",
      "Give me a chance to move forward\n"
     ]
    }
   ],
   "source": [
    "# try f.read() now \n",
    "with open(\"sample.txt\",\"r\") as f:\n",
    "    print(f.read())"
   ]
  },
  {
   "cell_type": "code",
   "execution_count": 26,
   "id": "3ac13d01",
   "metadata": {},
   "outputs": [
    {
     "name": "stdout",
     "output_type": "stream",
     "text": [
      "hello\n",
      "Hi\n",
      "G\n"
     ]
    }
   ],
   "source": [
    "# moving within a file -> 10 char then 10 char\n",
    "with open(\"sample.txt\",\"r\") as f:\n",
    "    print(f.read(10))"
   ]
  },
  {
   "cell_type": "code",
   "execution_count": 28,
   "id": "e5c8ce72",
   "metadata": {},
   "outputs": [
    {
     "name": "stdout",
     "output_type": "stream",
     "text": [
      "hello\n",
      "Hi\n",
      "G\n",
      "ive me a c\n"
     ]
    }
   ],
   "source": [
    "with open(\"sample.txt\",\"r\") as f:\n",
    "    print(f.read(10))\n",
    "    print(f.read(10))"
   ]
  },
  {
   "cell_type": "code",
   "execution_count": 29,
   "id": "1cb703f2",
   "metadata": {},
   "outputs": [],
   "source": [
    "# buffer memory tracking the how much it the reading character "
   ]
  },
  {
   "cell_type": "code",
   "execution_count": 31,
   "id": "87c0ab6e",
   "metadata": {},
   "outputs": [],
   "source": [
    "# benifits ?-> to load a big file in memory\n",
    "big_L =[\"hello world\" for i in range(1000)]\n",
    "\n",
    "with open(\"big_L.txt\",\"w\") as f:\n",
    "    f.writelines(big_L)"
   ]
  },
  {
   "cell_type": "code",
   "execution_count": 33,
   "id": "93489299",
   "metadata": {},
   "outputs": [
    {
     "name": "stdout",
     "output_type": "stream",
     "text": [
      "ello worldhello worldhello worldhello worldhello worldhello worldhello worldhello worldhello worldhe&o worldhello worldhello worldhello worldhello worldhello worldhello worldhello worldhello worldhello&orldhello worldhello worldhello worldhello worldhello worldhello worldhello worldhello worldhello wo&dhello worldhello worldhello worldhello worldhello worldhello worldhello worldhello worldhello world&llo worldhello worldhello worldhello worldhello worldhello worldhello worldhello worldhello worldhel& worldhello worldhello worldhello worldhello worldhello worldhello worldhello worldhello worldhello &rldhello worldhello worldhello worldhello worldhello worldhello worldhello worldhello worldhello wor&hello worldhello worldhello worldhello worldhello worldhello worldhello worldhello worldhello worldh&lo worldhello worldhello worldhello worldhello worldhello worldhello worldhello worldhello worldhell&worldhello worldhello worldhello worldhello worldhello worldhello worldhello worldhello worldhello w&ldhello worldhello worldhello worldhello worldhello worldhello worldhello worldhello worldhello worl&ello worldhello worldhello worldhello worldhello worldhello worldhello worldhello worldhello worldhe&o worldhello worldhello worldhello worldhello worldhello worldhello worldhello worldhello worldhello&orldhello worldhello worldhello worldhello worldhello worldhello worldhello worldhello worldhello wo&dhello worldhello worldhello worldhello worldhello worldhello worldhello worldhello worldhello world&llo worldhello worldhello worldhello worldhello worldhello worldhello worldhello worldhello worldhel& worldhello worldhello worldhello worldhello worldhello worldhello worldhello worldhello worldhello &rldhello worldhello worldhello worldhello worldhello worldhello worldhello worldhello worldhello wor&hello worldhello worldhello worldhello worldhello worldhello worldhello worldhello worldhello worldh&lo worldhello worldhello worldhello worldhello worldhello worldhello worldhello worldhello worldhell&worldhello worldhello worldhello worldhello worldhello worldhello worldhello worldhello worldhello w&ldhello worldhello worldhello worldhello worldhello worldhello worldhello worldhello worldhello worl&ello worldhello worldhello worldhello worldhello worldhello worldhello worldhello worldhello worldhe&o worldhello worldhello worldhello worldhello worldhello worldhello worldhello worldhello worldhello&orldhello worldhello worldhello worldhello worldhello worldhello worldhello worldhello worldhello wo&dhello worldhello worldhello worldhello worldhello worldhello worldhello worldhello worldhello world&llo worldhello worldhello worldhello worldhello worldhello worldhello worldhello worldhello worldhel& worldhello worldhello worldhello worldhello worldhello worldhello worldhello worldhello worldhello &rldhello worldhello worldhello worldhello worldhello worldhello worldhello worldhello worldhello wor&hello worldhello worldhello worldhello worldhello worldhello worldhello worldhello worldhello worldh&lo worldhello worldhello worldhello worldhello worldhello worldhello worldhello worldhello worldhell&worldhello worldhello worldhello worldhello worldhello worldhello worldhello worldhello worldhello w&ldhello worldhello worldhello worldhello worldhello worldhello worldhello worldhello worldhello worl&ello worldhello worldhello worldhello worldhello worldhello worldhello worldhello worldhello worldhe&o worldhello worldhello worldhello worldhello worldhello worldhello worldhello worldhello worldhello&orldhello worldhello worldhello worldhello worldhello worldhello worldhello worldhello worldhello wo&dhello worldhello worldhello worldhello worldhello worldhello worldhello worldhello worldhello world&"
     ]
    }
   ],
   "source": [
    "with open(\"big_L.txt\",'r') as f:\n",
    "    chunk_size =100\n",
    "    \n",
    "    while len(f.read(chunk_size))>0:\n",
    "        print(f.read(chunk_size),end=\"&\")\n",
    "        f.read(chunk_size)"
   ]
  },
  {
   "cell_type": "code",
   "execution_count": 34,
   "id": "30b8db95",
   "metadata": {},
   "outputs": [
    {
     "name": "stdout",
     "output_type": "stream",
     "text": [
      "dhello wor&orldhello &o worldhel&ello world&ldhello wo&worldhello&lo worldhe&hello worl&rldhello w& worldhell&llo worldh&dhello wor&orldhello &o worldhel&ello world&ldhello wo&worldhello&lo worldhe&hello worl&rldhello w& worldhell&llo worldh&dhello wor&orldhello &o worldhel&ello world&ldhello wo&worldhello&lo worldhe&hello worl&rldhello w& worldhell&llo worldh&dhello wor&orldhello &o worldhel&ello world&ldhello wo&worldhello&lo worldhe&hello worl&rldhello w& worldhell&llo worldh&dhello wor&orldhello &o worldhel&ello world&ldhello wo&worldhello&lo worldhe&hello worl&rldhello w& worldhell&llo worldh&dhello wor&orldhello &o worldhel&ello world&ldhello wo&worldhello&lo worldhe&hello worl&rldhello w& worldhell&llo worldh&dhello wor&orldhello &o worldhel&ello world&ldhello wo&worldhello&lo worldhe&hello worl&rldhello w& worldhell&llo worldh&dhello wor&orldhello &o worldhel&ello world&ldhello wo&worldhello&lo worldhe&hello worl&rldhello w& worldhell&llo worldh&dhello wor&orldhello &o worldhel&ello world&ldhello wo&worldhello&lo worldhe&hello worl&rldhello w& worldhell&llo worldh&dhello wor&orldhello &o worldhel&ello world&ldhello wo&worldhello&lo worldhe&hello worl&rldhello w& worldhell&llo worldh&dhello wor&orldhello &o worldhel&ello world&ldhello wo&worldhello&lo worldhe&hello worl&rldhello w& worldhell&llo worldh&dhello wor&orldhello &o worldhel&ello world&ldhello wo&worldhello&lo worldhe&hello worl&rldhello w& worldhell&llo worldh&dhello wor&orldhello &o worldhel&ello world&ldhello wo&worldhello&lo worldhe&hello worl&rldhello w& worldhell&llo worldh&dhello wor&orldhello &o worldhel&ello world&ldhello wo&worldhello&lo worldhe&hello worl&rldhello w& worldhell&llo worldh&dhello wor&orldhello &o worldhel&ello world&ldhello wo&worldhello&lo worldhe&hello worl&rldhello w& worldhell&llo worldh&dhello wor&orldhello &o worldhel&ello world&ldhello wo&worldhello&lo worldhe&hello worl&rldhello w& worldhell&llo worldh&dhello wor&orldhello &o worldhel&ello world&ldhello wo&worldhello&lo worldhe&hello worl&rldhello w& worldhell&llo worldh&dhello wor&orldhello &o worldhel&ello world&ldhello wo&worldhello&lo worldhe&hello worl&rldhello w& worldhell&llo worldh&dhello wor&orldhello &o worldhel&ello world&ldhello wo&worldhello&lo worldhe&hello worl&rldhello w& worldhell&llo worldh&dhello wor&orldhello &o worldhel&ello world&ldhello wo&worldhello&lo worldhe&hello worl&rldhello w& worldhell&llo worldh&dhello wor&orldhello &o worldhel&ello world&ldhello wo&worldhello&lo worldhe&hello worl&rldhello w& worldhell&llo worldh&dhello wor&orldhello &o worldhel&ello world&ldhello wo&worldhello&lo worldhe&hello worl&rldhello w& worldhell&llo worldh&dhello wor&orldhello &o worldhel&ello world&ldhello wo&worldhello&lo worldhe&hello worl&rldhello w& worldhell&llo worldh&dhello wor&orldhello &o worldhel&ello world&ldhello wo&worldhello&lo worldhe&hello worl&rldhello w& worldhell&llo worldh&dhello wor&orldhello &o worldhel&ello world&ldhello wo&worldhello&lo worldhe&hello worl&rldhello w& worldhell&llo worldh&dhello wor&orldhello &o worldhel&ello world&ldhello wo&worldhello&lo worldhe&hello worl&rldhello w& worldhell&llo worldh&dhello wor&orldhello &o worldhel&ello world&ldhello wo&worldhello&lo worldhe&hello worl&rldhello w& worldhell&llo worldh&dhello wor&orldhello &o worldhel&ello world&ldhello wo&worldhello&lo worldhe&hello worl&rldhello w& worldhell&llo worldh&dhello wor&orldhello &o worldhel&ello world&ldhello wo&worldhello&lo worldhe&hello worl&rldhello w& worldhell&llo worldh&dhello wor&orldhello &o worldhel&ello world&ldhello wo&worldhello&lo worldhe&hello worl&rldhello w& worldhell&llo worldh&dhello wor&orldhello &o worldhel&ello world&ldhello wo&worldhello&lo worldhe&hello worl&rldhello w& worldhell&llo worldh&dhello wor&orldhello &o worldhel&ello world&ldhello wo&worldhello&lo worldhe&hello worl&rldhello w& worldhell&llo worldh&dhello wor&orldhello &o worldhel&ello world&ldhello wo&worldhello&lo worldhe&hello worl&rldhello w& worldhell&llo worldh&dhello wor&orldhello &o worldhel&ello world&"
     ]
    }
   ],
   "source": [
    "with open(\"big_L.txt\",'r') as f:\n",
    "    chunk_size =10\n",
    "    \n",
    "    while len(f.read(chunk_size))>0:\n",
    "        print(f.read(chunk_size),end=\"&\")\n",
    "        f.read(chunk_size)"
   ]
  },
  {
   "cell_type": "code",
   "execution_count": null,
   "id": "a91dbc34",
   "metadata": {},
   "outputs": [],
   "source": []
  }
 ],
 "metadata": {
  "kernelspec": {
   "display_name": "Python 3",
   "language": "python",
   "name": "python3"
  },
  "language_info": {
   "codemirror_mode": {
    "name": "ipython",
    "version": 3
   },
   "file_extension": ".py",
   "mimetype": "text/x-python",
   "name": "python",
   "nbconvert_exporter": "python",
   "pygments_lexer": "ipython3",
   "version": "3.8.8"
  }
 },
 "nbformat": 4,
 "nbformat_minor": 5
}
