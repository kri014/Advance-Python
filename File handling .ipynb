{
 "cells": [
  {
   "cell_type": "markdown",
   "id": "4a76fce6",
   "metadata": {},
   "source": [
    "Types of data we use for I/O \n",
    "1. Text -\"12345\" as a sequence of unicode chars \n",
    "2. Binary - 12345 as a squence of bytes of its binary (0,1) equivalet \n",
    "\n",
    "Hence there are 2 files types to deal with \n",
    "1. Text files- All Programs files are the text files\n",
    "2. Binary files - Images,music video,exe files "
   ]
  },
  {
   "cell_type": "markdown",
   "id": "e35275cd",
   "metadata": {},
   "source": [
    "How file I/O is done in most programming language \n",
    "- Open a file \n",
    "- Read / Write data \n",
    "- Close the file "
   ]
  },
  {
   "cell_type": "markdown",
   "id": "87eec2b1",
   "metadata": {},
   "source": [
    "## Writing to a file "
   ]
  },
  {
   "cell_type": "code",
   "execution_count": 3,
   "id": "531287ae",
   "metadata": {},
   "outputs": [],
   "source": [
    "# Case 1- If the file is not present \n",
    "f=open(\"sample.txt\",\"w\")\n",
    "f.write(\"Hello World\")\n",
    "f.close()"
   ]
  },
  {
   "cell_type": "code",
   "execution_count": 4,
   "id": "5fc47d97",
   "metadata": {},
   "outputs": [
    {
     "ename": "ValueError",
     "evalue": "I/O operation on closed file.",
     "output_type": "error",
     "traceback": [
      "\u001b[1;31m---------------------------------------------------------------------------\u001b[0m",
      "\u001b[1;31mValueError\u001b[0m                                Traceback (most recent call last)",
      "\u001b[1;32m<ipython-input-4-0711388f6995>\u001b[0m in \u001b[0;36m<module>\u001b[1;34m\u001b[0m\n\u001b[1;32m----> 1\u001b[1;33m \u001b[0mf\u001b[0m\u001b[1;33m.\u001b[0m\u001b[0mwrite\u001b[0m\u001b[1;33m(\u001b[0m\u001b[1;34m\"hello world\"\u001b[0m\u001b[1;33m)\u001b[0m\u001b[1;33m\u001b[0m\u001b[1;33m\u001b[0m\u001b[0m\n\u001b[0m",
      "\u001b[1;31mValueError\u001b[0m: I/O operation on closed file."
     ]
    }
   ],
   "source": [
    "f.write(\"hello world\")"
   ]
  },
  {
   "cell_type": "code",
   "execution_count": 6,
   "id": "7cf4f93f",
   "metadata": {},
   "outputs": [],
   "source": [
    "# Write on multiple lines (strings )\n",
    "f= open(\"sample1.txt\",\"w\")\n",
    "f.write(\"Hello World\")\n",
    "f.write(\"\\n How are You\")\n",
    "f.close()"
   ]
  },
  {
   "cell_type": "code",
   "execution_count": 8,
   "id": "28af75b1",
   "metadata": {},
   "outputs": [],
   "source": [
    "# case 2: if the file is already present \n",
    "f= open(\"sample.txt\",\"w\")\n",
    "f.write(\"\\n salman Khan \")\n",
    "f.close()\n",
    "\n",
    "# if we are writing the existing file it will overwrite the string"
   ]
  },
  {
   "cell_type": "markdown",
   "id": "208446a4",
   "metadata": {},
   "source": [
    "How exactly open works?\n",
    "- when we execute the open function the file which is present in the ram is temporarly comes to the rom. \n",
    "- it will remains on rom till close() function execute before that we can write in the file "
   ]
  },
  {
   "cell_type": "markdown",
   "id": "7bffcd32",
   "metadata": {},
   "source": [
    " Problem with w mode\n",
    "- it will replace the old data "
   ]
  },
  {
   "cell_type": "markdown",
   "id": "0a41e6a1",
   "metadata": {},
   "source": [
    "#### Append mode "
   ]
  },
  {
   "cell_type": "code",
   "execution_count": 10,
   "id": "e17e6d77",
   "metadata": {},
   "outputs": [],
   "source": [
    "f=open(\"sample1.txt\",\"a\")\n",
    "f.write(\"\\n I am fine \")\n",
    "f.close()"
   ]
  },
  {
   "cell_type": "code",
   "execution_count": 12,
   "id": "8c3619b8",
   "metadata": {},
   "outputs": [],
   "source": [
    "# write the lines \n",
    "L =[\"hello\\n\",\"Hi\\n\",\"Give me a chance to move forward\"]\n",
    "\n",
    "f=open(\"sample.txt\",\"w\")\n",
    "f.writelines(L)\n",
    "f.close()"
   ]
  },
  {
   "cell_type": "markdown",
   "id": "54d90c3e",
   "metadata": {},
   "source": [
    "Why we close() the file?\n",
    "- the file is open in the rom it will remains in rom till we close so it will consume the the memory more and more \n",
    "- safety perpose "
   ]
  },
  {
   "cell_type": "markdown",
   "id": "9b83a711",
   "metadata": {},
   "source": [
    "#### Reading "
   ]
  },
  {
   "cell_type": "code",
   "execution_count": 14,
   "id": "47087105",
   "metadata": {},
   "outputs": [
    {
     "name": "stdout",
     "output_type": "stream",
     "text": [
      "hello\n",
      "Hi\n",
      "Give me a chance to move forward\n"
     ]
    }
   ],
   "source": [
    "# using- read()\n",
    "f= open(\"sample.txt\",\"r\")\n",
    "s=f.read()\n",
    "print(s)\n",
    "f.close()"
   ]
  },
  {
   "cell_type": "code",
   "execution_count": 15,
   "id": "1c242665",
   "metadata": {},
   "outputs": [
    {
     "name": "stdout",
     "output_type": "stream",
     "text": [
      "hello\n",
      "Hi\n",
      "G\n"
     ]
    }
   ],
   "source": [
    "# readinf upto n chars\n",
    "f= open(\"sample.txt\",\"r\")\n",
    "s=f.read(10) # only 10 characters\n",
    "print(s)\n",
    "f.close()"
   ]
  },
  {
   "cell_type": "code",
   "execution_count": 20,
   "id": "b8e82640",
   "metadata": {},
   "outputs": [
    {
     "name": "stdout",
     "output_type": "stream",
     "text": [
      "hello\n",
      "\n",
      "Hi\n",
      "\n"
     ]
    }
   ],
   "source": [
    "# readline() -> read the line line by lines\n",
    "f= open(\"sample.txt\",\"r\")\n",
    "print(f.readline()) \n",
    "print(f.readline())\n",
    "f.close()\n",
    "# extra lines comes in the reading "
   ]
  },
  {
   "cell_type": "code",
   "execution_count": 21,
   "id": "6caadd31",
   "metadata": {},
   "outputs": [
    {
     "name": "stdout",
     "output_type": "stream",
     "text": [
      "hello\n",
      "Hi\n"
     ]
    }
   ],
   "source": [
    "f= open(\"sample.txt\",\"r\")\n",
    "print(f.readline(),end=\"\") \n",
    "print(f.readline(),end=\"\")\n",
    "f.close()"
   ]
  },
  {
   "cell_type": "code",
   "execution_count": 22,
   "id": "6fce76f4",
   "metadata": {},
   "outputs": [
    {
     "name": "stdout",
     "output_type": "stream",
     "text": [
      "hello\n",
      "Hi\n",
      "Give me a chance to move forward"
     ]
    }
   ],
   "source": [
    "# Reading Entire lines\n",
    "\n",
    "f= open(\"sample.txt\",\"r\")\n",
    "\n",
    "while True:\n",
    "    data= f.readline()\n",
    "    if data==\"\":\n",
    "        break\n",
    "    else:\n",
    "        print(data,end=\"\")\n",
    "        \n",
    "f.close()"
   ]
  },
  {
   "cell_type": "markdown",
   "id": "f4ad091a",
   "metadata": {},
   "source": [
    "#### using Context Manager(With)\n",
    "- It's a good idea to close a file usage as it will free up \n",
    "- If we don't close it, gradbage collector would close it\n",
    "- with keyword closes the file as soon as the usage is over "
   ]
  },
  {
   "cell_type": "code",
   "execution_count": 23,
   "id": "43d98dfa",
   "metadata": {},
   "outputs": [],
   "source": [
    "# with \n",
    "with open(\"sample1.txt\",\"w\") as f:\n",
    "    f.write(\"Selmon Bhai macha de\")"
   ]
  },
  {
   "cell_type": "code",
   "execution_count": 24,
   "id": "49207291",
   "metadata": {},
   "outputs": [
    {
     "ename": "ValueError",
     "evalue": "I/O operation on closed file.",
     "output_type": "error",
     "traceback": [
      "\u001b[1;31m---------------------------------------------------------------------------\u001b[0m",
      "\u001b[1;31mValueError\u001b[0m                                Traceback (most recent call last)",
      "\u001b[1;32m<ipython-input-24-18fc464dd662>\u001b[0m in \u001b[0;36m<module>\u001b[1;34m\u001b[0m\n\u001b[1;32m----> 1\u001b[1;33m \u001b[0mf\u001b[0m\u001b[1;33m.\u001b[0m\u001b[0mwrite\u001b[0m\u001b[1;33m(\u001b[0m\u001b[1;34m\"hello\"\u001b[0m\u001b[1;33m)\u001b[0m\u001b[1;33m\u001b[0m\u001b[1;33m\u001b[0m\u001b[0m\n\u001b[0m",
      "\u001b[1;31mValueError\u001b[0m: I/O operation on closed file."
     ]
    }
   ],
   "source": [
    "f.write(\"hello\")"
   ]
  },
  {
   "cell_type": "code",
   "execution_count": 25,
   "id": "aa7c46ca",
   "metadata": {},
   "outputs": [
    {
     "name": "stdout",
     "output_type": "stream",
     "text": [
      "hello\n",
      "Hi\n",
      "Give me a chance to move forward\n"
     ]
    }
   ],
   "source": [
    "# try f.read() now \n",
    "with open(\"sample.txt\",\"r\") as f:\n",
    "    print(f.read())"
   ]
  },
  {
   "cell_type": "code",
   "execution_count": 26,
   "id": "3ac13d01",
   "metadata": {},
   "outputs": [
    {
     "name": "stdout",
     "output_type": "stream",
     "text": [
      "hello\n",
      "Hi\n",
      "G\n"
     ]
    }
   ],
   "source": [
    "# moving within a file -> 10 char then 10 char\n",
    "with open(\"sample.txt\",\"r\") as f:\n",
    "    print(f.read(10))"
   ]
  },
  {
   "cell_type": "code",
   "execution_count": 28,
   "id": "e5c8ce72",
   "metadata": {},
   "outputs": [
    {
     "name": "stdout",
     "output_type": "stream",
     "text": [
      "hello\n",
      "Hi\n",
      "G\n",
      "ive me a c\n"
     ]
    }
   ],
   "source": [
    "with open(\"sample.txt\",\"r\") as f:\n",
    "    print(f.read(10))\n",
    "    print(f.read(10))"
   ]
  },
  {
   "cell_type": "code",
   "execution_count": 29,
   "id": "1cb703f2",
   "metadata": {},
   "outputs": [],
   "source": [
    "# buffer memory tracking the how much it the reading character "
   ]
  },
  {
   "cell_type": "code",
   "execution_count": 35,
   "id": "87c0ab6e",
   "metadata": {},
   "outputs": [],
   "source": [
    "# benifits ?-> to load a big file in memory\n",
    "big_L =[\"hello world\" for i in range(100)]\n",
    "\n",
    "with open(\"big_L.txt\",\"w\") as f:\n",
    "    f.writelines(big_L)"
   ]
  },
  {
   "cell_type": "code",
   "execution_count": 36,
   "id": "93489299",
   "metadata": {},
   "outputs": [
    {
     "name": "stdout",
     "output_type": "stream",
     "text": [
      "ello worldhello worldhello worldhello worldhello worldhello worldhello worldhello worldhello worldhe&o worldhello worldhello worldhello worldhello worldhello worldhello worldhello worldhello worldhello&orldhello worldhello worldhello worldhello worldhello worldhello worldhello worldhello worldhello wo&dhello worldhello worldhello worldhello worldhello worldhello worldhello worldhello worldhello world&"
     ]
    }
   ],
   "source": [
    "with open(\"big_L.txt\",'r') as f:\n",
    "    chunk_size =100\n",
    "    \n",
    "    while len(f.read(chunk_size))>0:\n",
    "        print(f.read(chunk_size),end=\"&\")\n",
    "        f.read(chunk_size)"
   ]
  },
  {
   "cell_type": "code",
   "execution_count": 37,
   "id": "30b8db95",
   "metadata": {},
   "outputs": [
    {
     "name": "stdout",
     "output_type": "stream",
     "text": [
      "dhello wor&orldhello &o worldhel&ello world&ldhello wo&worldhello&lo worldhe&hello worl&rldhello w& worldhell&llo worldh&dhello wor&orldhello &o worldhel&ello world&ldhello wo&worldhello&lo worldhe&hello worl&rldhello w& worldhell&llo worldh&dhello wor&orldhello &o worldhel&ello world&ldhello wo&worldhello&lo worldhe&hello worl&rldhello w& worldhell&llo worldh&dhello wor&orldhello &o worldhel&ello world&"
     ]
    }
   ],
   "source": [
    "with open(\"big_L.txt\",'r') as f:\n",
    "    chunk_size =10\n",
    "    \n",
    "    while len(f.read(chunk_size))>0:\n",
    "        print(f.read(chunk_size),end=\"&\")\n",
    "        f.read(chunk_size)"
   ]
  },
  {
   "cell_type": "code",
   "execution_count": 38,
   "id": "a91dbc34",
   "metadata": {},
   "outputs": [],
   "source": [
    "# seek()=> will tell you where to go\n",
    "# tell()=>  will tell your position "
   ]
  },
  {
   "cell_type": "code",
   "execution_count": 45,
   "id": "8476e6cf",
   "metadata": {},
   "outputs": [
    {
     "name": "stdout",
     "output_type": "stream",
     "text": [
      "hello\n",
      "Hi\n",
      "G\n",
      "12\n",
      "hello\n",
      "Hi\n",
      "G\n",
      "12\n"
     ]
    }
   ],
   "source": [
    "with open(\"sample.txt\",\"r\") as f:\n",
    "    print(f.read(10))\n",
    "    print(f.tell())\n",
    "    f.seek(0)\n",
    "    print(f.read(10))\n",
    "    print(f.tell())\n",
    "    "
   ]
  },
  {
   "cell_type": "code",
   "execution_count": 2,
   "id": "fd1710e7",
   "metadata": {},
   "outputs": [
    {
     "name": "stdout",
     "output_type": "stream",
     "text": [
      "hello\n",
      "Hi\n",
      "G\n",
      "12\n",
      "hello\n",
      "Hi\n",
      "G\n",
      "12\n"
     ]
    }
   ],
   "source": [
    "with open(\"sample.txt\",\"r\") as f:\n",
    "    print(f.read(10))\n",
    "    print(f.tell())\n",
    "    f.seek(0)\n",
    "    print(f.read(10))\n",
    "    print(f.tell())"
   ]
  },
  {
   "cell_type": "code",
   "execution_count": 3,
   "id": "d4347940",
   "metadata": {},
   "outputs": [],
   "source": [
    "# seek during writing \n",
    "with open(\"sample.txt\",\"w\") as f:\n",
    "    f.write(\"Hello\")\n",
    "    f.seek(0)\n",
    "    f.write(\"Xa\")\n",
    "    \n",
    "# output is xallo "
   ]
  },
  {
   "cell_type": "markdown",
   "id": "5bfcf6c6",
   "metadata": {},
   "source": [
    "Problem with working in text mode\n",
    "- Can't work with binary files like images \n",
    "- not good for other data types like int/float/list/tuple"
   ]
  },
  {
   "cell_type": "code",
   "execution_count": 4,
   "id": "6d9b4c08",
   "metadata": {},
   "outputs": [],
   "source": [
    "# working with binary files (imgaes)"
   ]
  },
  {
   "cell_type": "code",
   "execution_count": 5,
   "id": "4b6c44fe",
   "metadata": {},
   "outputs": [
    {
     "ename": "UnicodeDecodeError",
     "evalue": "'charmap' codec can't decode byte 0x8d in position 340: character maps to <undefined>",
     "output_type": "error",
     "traceback": [
      "\u001b[1;31m---------------------------------------------------------------------------\u001b[0m",
      "\u001b[1;31mUnicodeDecodeError\u001b[0m                        Traceback (most recent call last)",
      "\u001b[1;32m<ipython-input-5-c1c107d46fee>\u001b[0m in \u001b[0;36m<module>\u001b[1;34m\u001b[0m\n\u001b[0;32m      1\u001b[0m \u001b[1;32mwith\u001b[0m \u001b[0mopen\u001b[0m\u001b[1;33m(\u001b[0m\u001b[1;34m\"walrus.jpg\"\u001b[0m\u001b[1;33m,\u001b[0m\u001b[1;34m\"r\"\u001b[0m\u001b[1;33m)\u001b[0m \u001b[1;32mas\u001b[0m \u001b[0mf\u001b[0m\u001b[1;33m:\u001b[0m\u001b[1;33m\u001b[0m\u001b[1;33m\u001b[0m\u001b[0m\n\u001b[1;32m----> 2\u001b[1;33m     \u001b[0mf\u001b[0m\u001b[1;33m.\u001b[0m\u001b[0mread\u001b[0m\u001b[1;33m(\u001b[0m\u001b[1;33m)\u001b[0m\u001b[1;33m\u001b[0m\u001b[1;33m\u001b[0m\u001b[0m\n\u001b[0m",
      "\u001b[1;32m~\\anaconda3\\lib\\encodings\\cp1252.py\u001b[0m in \u001b[0;36mdecode\u001b[1;34m(self, input, final)\u001b[0m\n\u001b[0;32m     21\u001b[0m \u001b[1;32mclass\u001b[0m \u001b[0mIncrementalDecoder\u001b[0m\u001b[1;33m(\u001b[0m\u001b[0mcodecs\u001b[0m\u001b[1;33m.\u001b[0m\u001b[0mIncrementalDecoder\u001b[0m\u001b[1;33m)\u001b[0m\u001b[1;33m:\u001b[0m\u001b[1;33m\u001b[0m\u001b[1;33m\u001b[0m\u001b[0m\n\u001b[0;32m     22\u001b[0m     \u001b[1;32mdef\u001b[0m \u001b[0mdecode\u001b[0m\u001b[1;33m(\u001b[0m\u001b[0mself\u001b[0m\u001b[1;33m,\u001b[0m \u001b[0minput\u001b[0m\u001b[1;33m,\u001b[0m \u001b[0mfinal\u001b[0m\u001b[1;33m=\u001b[0m\u001b[1;32mFalse\u001b[0m\u001b[1;33m)\u001b[0m\u001b[1;33m:\u001b[0m\u001b[1;33m\u001b[0m\u001b[1;33m\u001b[0m\u001b[0m\n\u001b[1;32m---> 23\u001b[1;33m         \u001b[1;32mreturn\u001b[0m \u001b[0mcodecs\u001b[0m\u001b[1;33m.\u001b[0m\u001b[0mcharmap_decode\u001b[0m\u001b[1;33m(\u001b[0m\u001b[0minput\u001b[0m\u001b[1;33m,\u001b[0m\u001b[0mself\u001b[0m\u001b[1;33m.\u001b[0m\u001b[0merrors\u001b[0m\u001b[1;33m,\u001b[0m\u001b[0mdecoding_table\u001b[0m\u001b[1;33m)\u001b[0m\u001b[1;33m[\u001b[0m\u001b[1;36m0\u001b[0m\u001b[1;33m]\u001b[0m\u001b[1;33m\u001b[0m\u001b[1;33m\u001b[0m\u001b[0m\n\u001b[0m\u001b[0;32m     24\u001b[0m \u001b[1;33m\u001b[0m\u001b[0m\n\u001b[0;32m     25\u001b[0m \u001b[1;32mclass\u001b[0m \u001b[0mStreamWriter\u001b[0m\u001b[1;33m(\u001b[0m\u001b[0mCodec\u001b[0m\u001b[1;33m,\u001b[0m\u001b[0mcodecs\u001b[0m\u001b[1;33m.\u001b[0m\u001b[0mStreamWriter\u001b[0m\u001b[1;33m)\u001b[0m\u001b[1;33m:\u001b[0m\u001b[1;33m\u001b[0m\u001b[1;33m\u001b[0m\u001b[0m\n",
      "\u001b[1;31mUnicodeDecodeError\u001b[0m: 'charmap' codec can't decode byte 0x8d in position 340: character maps to <undefined>"
     ]
    }
   ],
   "source": [
    "with open(\"walrus.jpg\",\"r\") as f:\n",
    "    f.read()"
   ]
  },
  {
   "cell_type": "code",
   "execution_count": 6,
   "id": "6a1f08fb",
   "metadata": {},
   "outputs": [],
   "source": [
    "# working with bibary file\n",
    "with open(\"walrus.jpg\",\"rb\") as f:\n",
    "    with open(\"walrus_copy.jpg\",\"wb\") as wf:\n",
    "        wf.write(f.read())"
   ]
  },
  {
   "cell_type": "code",
   "execution_count": 7,
   "id": "deecbbbc",
   "metadata": {},
   "outputs": [
    {
     "ename": "TypeError",
     "evalue": "write() argument must be str, not int",
     "output_type": "error",
     "traceback": [
      "\u001b[1;31m---------------------------------------------------------------------------\u001b[0m",
      "\u001b[1;31mTypeError\u001b[0m                                 Traceback (most recent call last)",
      "\u001b[1;32m<ipython-input-7-10fbdd842e13>\u001b[0m in \u001b[0;36m<module>\u001b[1;34m\u001b[0m\n\u001b[0;32m      1\u001b[0m \u001b[1;31m# working with other datatypes\u001b[0m\u001b[1;33m\u001b[0m\u001b[1;33m\u001b[0m\u001b[1;33m\u001b[0m\u001b[0m\n\u001b[0;32m      2\u001b[0m \u001b[1;32mwith\u001b[0m \u001b[0mopen\u001b[0m\u001b[1;33m(\u001b[0m\u001b[1;34m\"sample.txt\"\u001b[0m\u001b[1;33m,\u001b[0m\u001b[1;34m\"w\"\u001b[0m\u001b[1;33m)\u001b[0m \u001b[1;32mas\u001b[0m \u001b[0mf\u001b[0m\u001b[1;33m:\u001b[0m\u001b[1;33m\u001b[0m\u001b[1;33m\u001b[0m\u001b[0m\n\u001b[1;32m----> 3\u001b[1;33m     \u001b[0mf\u001b[0m\u001b[1;33m.\u001b[0m\u001b[0mwrite\u001b[0m\u001b[1;33m(\u001b[0m\u001b[1;36m5\u001b[0m\u001b[1;33m)\u001b[0m\u001b[1;33m\u001b[0m\u001b[1;33m\u001b[0m\u001b[0m\n\u001b[0m",
      "\u001b[1;31mTypeError\u001b[0m: write() argument must be str, not int"
     ]
    }
   ],
   "source": [
    "# working with other datatypes \n",
    "with open(\"sample.txt\",\"w\") as f:\n",
    "    f.write(5) # it will take only string "
   ]
  },
  {
   "cell_type": "code",
   "execution_count": 8,
   "id": "13df4159",
   "metadata": {},
   "outputs": [],
   "source": [
    "with open(\"sample.txt\",\"w\") as f:\n",
    "    f.write('5')"
   ]
  },
  {
   "cell_type": "code",
   "execution_count": 9,
   "id": "5cfe8d36",
   "metadata": {},
   "outputs": [
    {
     "ename": "TypeError",
     "evalue": "can only concatenate str (not \"int\") to str",
     "output_type": "error",
     "traceback": [
      "\u001b[1;31m---------------------------------------------------------------------------\u001b[0m",
      "\u001b[1;31mTypeError\u001b[0m                                 Traceback (most recent call last)",
      "\u001b[1;32m<ipython-input-9-af66eab26b62>\u001b[0m in \u001b[0;36m<module>\u001b[1;34m\u001b[0m\n\u001b[0;32m      1\u001b[0m \u001b[1;32mwith\u001b[0m \u001b[0mopen\u001b[0m\u001b[1;33m(\u001b[0m\u001b[1;34m\"sample.txt\"\u001b[0m\u001b[1;33m,\u001b[0m\u001b[1;34m\"r\"\u001b[0m\u001b[1;33m)\u001b[0m \u001b[1;32mas\u001b[0m \u001b[0mf\u001b[0m\u001b[1;33m:\u001b[0m\u001b[1;33m\u001b[0m\u001b[1;33m\u001b[0m\u001b[0m\n\u001b[1;32m----> 2\u001b[1;33m     \u001b[0mprint\u001b[0m\u001b[1;33m(\u001b[0m\u001b[0mf\u001b[0m\u001b[1;33m.\u001b[0m\u001b[0mread\u001b[0m\u001b[1;33m(\u001b[0m\u001b[1;33m)\u001b[0m\u001b[1;33m+\u001b[0m\u001b[1;36m5\u001b[0m\u001b[1;33m)\u001b[0m\u001b[1;33m\u001b[0m\u001b[1;33m\u001b[0m\u001b[0m\n\u001b[0m",
      "\u001b[1;31mTypeError\u001b[0m: can only concatenate str (not \"int\") to str"
     ]
    }
   ],
   "source": [
    "with open(\"sample.txt\",\"r\") as f:\n",
    "    print(f.read()+5) #  Since it will read as string"
   ]
  },
  {
   "cell_type": "code",
   "execution_count": 10,
   "id": "6785a16a",
   "metadata": {},
   "outputs": [
    {
     "name": "stdout",
     "output_type": "stream",
     "text": [
      "10\n"
     ]
    }
   ],
   "source": [
    "with open(\"sample.txt\",\"r\") as f:\n",
    "    print(int(f.read())+5) # type conversion "
   ]
  },
  {
   "cell_type": "code",
   "execution_count": 12,
   "id": "d4aceeb4",
   "metadata": {},
   "outputs": [
    {
     "ename": "TypeError",
     "evalue": "write() argument must be str, not dict",
     "output_type": "error",
     "traceback": [
      "\u001b[1;31m---------------------------------------------------------------------------\u001b[0m",
      "\u001b[1;31mTypeError\u001b[0m                                 Traceback (most recent call last)",
      "\u001b[1;32m<ipython-input-12-0b3bf250267b>\u001b[0m in \u001b[0;36m<module>\u001b[1;34m\u001b[0m\n\u001b[0;32m      6\u001b[0m }\n\u001b[0;32m      7\u001b[0m \u001b[1;32mwith\u001b[0m \u001b[0mopen\u001b[0m\u001b[1;33m(\u001b[0m\u001b[1;34m\"sample.txt\"\u001b[0m\u001b[1;33m,\u001b[0m\u001b[1;34m\"w\"\u001b[0m\u001b[1;33m)\u001b[0m \u001b[1;32mas\u001b[0m \u001b[0mf\u001b[0m\u001b[1;33m:\u001b[0m\u001b[1;33m\u001b[0m\u001b[1;33m\u001b[0m\u001b[0m\n\u001b[1;32m----> 8\u001b[1;33m     \u001b[0mf\u001b[0m\u001b[1;33m.\u001b[0m\u001b[0mwrite\u001b[0m\u001b[1;33m(\u001b[0m\u001b[0md\u001b[0m\u001b[1;33m)\u001b[0m\u001b[1;33m\u001b[0m\u001b[1;33m\u001b[0m\u001b[0m\n\u001b[0m",
      "\u001b[1;31mTypeError\u001b[0m: write() argument must be str, not dict"
     ]
    }
   ],
   "source": [
    "# more complex \n",
    "d ={\n",
    "    \"name\":\"krish\",\n",
    "    \"age\":33,\n",
    "    \"gender\":\"male\"\n",
    "}\n",
    "with open(\"sample.txt\",\"w\") as f:\n",
    "    f.write(d)"
   ]
  },
  {
   "cell_type": "code",
   "execution_count": 13,
   "id": "45c98fcd",
   "metadata": {},
   "outputs": [],
   "source": [
    "d ={\n",
    "    \"name\":\"krish\",\n",
    "    \"age\":33,\n",
    "    \"gender\":\"male\"\n",
    "}\n",
    "with open(\"sample.txt\",\"w\") as f:\n",
    "    f.write(str(d))"
   ]
  },
  {
   "cell_type": "code",
   "execution_count": 15,
   "id": "c9996c6d",
   "metadata": {},
   "outputs": [
    {
     "name": "stdout",
     "output_type": "stream",
     "text": [
      "{'name': 'krish', 'age': 33, 'gender': 'male'}\n",
      "<class 'str'>\n"
     ]
    }
   ],
   "source": [
    "with open(\"sample.txt\",\"r\") as f:\n",
    "    print(f.read())\n",
    "    print(type(f.read()))"
   ]
  },
  {
   "cell_type": "code",
   "execution_count": 16,
   "id": "0c6aeacc",
   "metadata": {},
   "outputs": [
    {
     "ename": "ValueError",
     "evalue": "dictionary update sequence element #0 has length 1; 2 is required",
     "output_type": "error",
     "traceback": [
      "\u001b[1;31m---------------------------------------------------------------------------\u001b[0m",
      "\u001b[1;31mValueError\u001b[0m                                Traceback (most recent call last)",
      "\u001b[1;32m<ipython-input-16-021ccdeda56f>\u001b[0m in \u001b[0;36m<module>\u001b[1;34m\u001b[0m\n\u001b[0;32m      1\u001b[0m \u001b[1;32mwith\u001b[0m \u001b[0mopen\u001b[0m\u001b[1;33m(\u001b[0m\u001b[1;34m\"sample.txt\"\u001b[0m\u001b[1;33m,\u001b[0m\u001b[1;34m\"r\"\u001b[0m\u001b[1;33m)\u001b[0m \u001b[1;32mas\u001b[0m \u001b[0mf\u001b[0m\u001b[1;33m:\u001b[0m\u001b[1;33m\u001b[0m\u001b[1;33m\u001b[0m\u001b[0m\n\u001b[1;32m----> 2\u001b[1;33m     \u001b[0mprint\u001b[0m\u001b[1;33m(\u001b[0m\u001b[0mdict\u001b[0m\u001b[1;33m(\u001b[0m\u001b[0mf\u001b[0m\u001b[1;33m.\u001b[0m\u001b[0mread\u001b[0m\u001b[1;33m(\u001b[0m\u001b[1;33m)\u001b[0m\u001b[1;33m)\u001b[0m\u001b[1;33m)\u001b[0m\u001b[1;33m\u001b[0m\u001b[1;33m\u001b[0m\u001b[0m\n\u001b[0m",
      "\u001b[1;31mValueError\u001b[0m: dictionary update sequence element #0 has length 1; 2 is required"
     ]
    }
   ],
   "source": [
    "with open(\"sample.txt\",\"r\") as f:\n",
    "    print(dict(f.read()))\n",
    "    # we can't store the dict in file "
   ]
  },
  {
   "cell_type": "markdown",
   "id": "fd82afa3",
   "metadata": {},
   "source": [
    "#### Serialization and deserialization \n",
    "- **Serialization** - Process of converting python datatype to JSON \n",
    "- **Deserilazation** - process of converting to pyhton datatypes "
   ]
  },
  {
   "cell_type": "code",
   "execution_count": 17,
   "id": "106aa6c3",
   "metadata": {},
   "outputs": [],
   "source": [
    "# Serialization using json module \n",
    "# list\n",
    "import json\n",
    "L =[1,2,3,4]\n",
    "with open(\"demo.json\",\"w\" )as f:\n",
    "    json.dump(L,f)\n",
    "    "
   ]
  },
  {
   "cell_type": "code",
   "execution_count": 18,
   "id": "8340b820",
   "metadata": {},
   "outputs": [],
   "source": [
    "d ={\n",
    "    \"name\":\"krish\",\n",
    "    \"age\":33,\n",
    "    \"gender\":\"male\"\n",
    "}\n",
    "with open(\"demo.json\",\"w\" )as f:\n",
    "    json.dump(d,f)"
   ]
  },
  {
   "cell_type": "code",
   "execution_count": 19,
   "id": "252c01d8",
   "metadata": {},
   "outputs": [],
   "source": [
    "d ={\n",
    "    \"name\":\"krish\",\n",
    "    \"age\":33,\n",
    "    \"gender\":\"male\"\n",
    "}\n",
    "with open(\"demo.json\",\"w\" )as f:\n",
    "    json.dump(d,f,indent=4)"
   ]
  },
  {
   "cell_type": "code",
   "execution_count": 20,
   "id": "68c252ca",
   "metadata": {},
   "outputs": [
    {
     "name": "stdout",
     "output_type": "stream",
     "text": [
      "{'name': 'krish', 'age': 33, 'gender': 'male'}\n",
      "<class 'dict'>\n"
     ]
    }
   ],
   "source": [
    "# deserialization\n",
    "import json\n",
    "with open(\"demo.json\",\"r\") as f:\n",
    "    d=json.load(f)\n",
    "    print(d)\n",
    "    print(type(d))"
   ]
  },
  {
   "cell_type": "code",
   "execution_count": 21,
   "id": "d02c4975",
   "metadata": {},
   "outputs": [],
   "source": [
    "# Serialzation and deseriliaztion tuple \n",
    "import json \n",
    "t=(1,2,3,4,5)\n",
    "with open(\"demo.json\",\"w\") as f:\n",
    "    json.dump(t,f)"
   ]
  },
  {
   "cell_type": "code",
   "execution_count": 22,
   "id": "5fc61c48",
   "metadata": {},
   "outputs": [],
   "source": [
    "# serialization and deserilization a nested dict\n",
    "d={\n",
    "    \"student\":\"nitish\",\n",
    "    \"marks\":[23,34,45,56]\n",
    "}\n",
    "with open(\"demo.json\",\"w\") as f:\n",
    "    json.dump(d,f)"
   ]
  },
  {
   "cell_type": "markdown",
   "id": "9332c0ee",
   "metadata": {},
   "source": [
    "#### Serialization and Deserialzation custom objects "
   ]
  },
  {
   "cell_type": "code",
   "execution_count": 24,
   "id": "8315e981",
   "metadata": {},
   "outputs": [],
   "source": [
    "class Person:\n",
    "    def __init__(self,fname,lname,age,gender):\n",
    "        self.fname=fname\n",
    "        self.lname=lname\n",
    "        self.age=age\n",
    "        self.gender=gender\n",
    "       \n",
    " # format to print in \n",
    " # -> Nitish singh age-> 33 gender->male "
   ]
  },
  {
   "cell_type": "code",
   "execution_count": 25,
   "id": "b5386bbb",
   "metadata": {},
   "outputs": [],
   "source": [
    "person =Person(\"Nitish\",\"Singh\",33,\"male\")"
   ]
  },
  {
   "cell_type": "code",
   "execution_count": 26,
   "id": "1a6b9a8e",
   "metadata": {},
   "outputs": [
    {
     "ename": "TypeError",
     "evalue": "Object of type Person is not JSON serializable",
     "output_type": "error",
     "traceback": [
      "\u001b[1;31m---------------------------------------------------------------------------\u001b[0m",
      "\u001b[1;31mTypeError\u001b[0m                                 Traceback (most recent call last)",
      "\u001b[1;32m<ipython-input-26-8997224a4cf5>\u001b[0m in \u001b[0;36m<module>\u001b[1;34m\u001b[0m\n\u001b[0;32m      3\u001b[0m \u001b[1;33m\u001b[0m\u001b[0m\n\u001b[0;32m      4\u001b[0m \u001b[1;32mwith\u001b[0m \u001b[0mopen\u001b[0m\u001b[1;33m(\u001b[0m\u001b[1;34m\"demo.json\"\u001b[0m\u001b[1;33m,\u001b[0m\u001b[1;34m\"w\"\u001b[0m\u001b[1;33m)\u001b[0m \u001b[1;32mas\u001b[0m \u001b[0mf\u001b[0m\u001b[1;33m:\u001b[0m\u001b[1;33m\u001b[0m\u001b[1;33m\u001b[0m\u001b[0m\n\u001b[1;32m----> 5\u001b[1;33m     \u001b[0mjson\u001b[0m\u001b[1;33m.\u001b[0m\u001b[0mdump\u001b[0m\u001b[1;33m(\u001b[0m\u001b[0mperson\u001b[0m\u001b[1;33m,\u001b[0m\u001b[0mf\u001b[0m\u001b[1;33m)\u001b[0m\u001b[1;33m\u001b[0m\u001b[1;33m\u001b[0m\u001b[0m\n\u001b[0m",
      "\u001b[1;32m~\\anaconda3\\lib\\json\\__init__.py\u001b[0m in \u001b[0;36mdump\u001b[1;34m(obj, fp, skipkeys, ensure_ascii, check_circular, allow_nan, cls, indent, separators, default, sort_keys, **kw)\u001b[0m\n\u001b[0;32m    177\u001b[0m     \u001b[1;31m# could accelerate with writelines in some versions of Python, at\u001b[0m\u001b[1;33m\u001b[0m\u001b[1;33m\u001b[0m\u001b[1;33m\u001b[0m\u001b[0m\n\u001b[0;32m    178\u001b[0m     \u001b[1;31m# a debuggability cost\u001b[0m\u001b[1;33m\u001b[0m\u001b[1;33m\u001b[0m\u001b[1;33m\u001b[0m\u001b[0m\n\u001b[1;32m--> 179\u001b[1;33m     \u001b[1;32mfor\u001b[0m \u001b[0mchunk\u001b[0m \u001b[1;32min\u001b[0m \u001b[0miterable\u001b[0m\u001b[1;33m:\u001b[0m\u001b[1;33m\u001b[0m\u001b[1;33m\u001b[0m\u001b[0m\n\u001b[0m\u001b[0;32m    180\u001b[0m         \u001b[0mfp\u001b[0m\u001b[1;33m.\u001b[0m\u001b[0mwrite\u001b[0m\u001b[1;33m(\u001b[0m\u001b[0mchunk\u001b[0m\u001b[1;33m)\u001b[0m\u001b[1;33m\u001b[0m\u001b[1;33m\u001b[0m\u001b[0m\n\u001b[0;32m    181\u001b[0m \u001b[1;33m\u001b[0m\u001b[0m\n",
      "\u001b[1;32m~\\anaconda3\\lib\\json\\encoder.py\u001b[0m in \u001b[0;36m_iterencode\u001b[1;34m(o, _current_indent_level)\u001b[0m\n\u001b[0;32m    436\u001b[0m                     \u001b[1;32mraise\u001b[0m \u001b[0mValueError\u001b[0m\u001b[1;33m(\u001b[0m\u001b[1;34m\"Circular reference detected\"\u001b[0m\u001b[1;33m)\u001b[0m\u001b[1;33m\u001b[0m\u001b[1;33m\u001b[0m\u001b[0m\n\u001b[0;32m    437\u001b[0m                 \u001b[0mmarkers\u001b[0m\u001b[1;33m[\u001b[0m\u001b[0mmarkerid\u001b[0m\u001b[1;33m]\u001b[0m \u001b[1;33m=\u001b[0m \u001b[0mo\u001b[0m\u001b[1;33m\u001b[0m\u001b[1;33m\u001b[0m\u001b[0m\n\u001b[1;32m--> 438\u001b[1;33m             \u001b[0mo\u001b[0m \u001b[1;33m=\u001b[0m \u001b[0m_default\u001b[0m\u001b[1;33m(\u001b[0m\u001b[0mo\u001b[0m\u001b[1;33m)\u001b[0m\u001b[1;33m\u001b[0m\u001b[1;33m\u001b[0m\u001b[0m\n\u001b[0m\u001b[0;32m    439\u001b[0m             \u001b[1;32myield\u001b[0m \u001b[1;32mfrom\u001b[0m \u001b[0m_iterencode\u001b[0m\u001b[1;33m(\u001b[0m\u001b[0mo\u001b[0m\u001b[1;33m,\u001b[0m \u001b[0m_current_indent_level\u001b[0m\u001b[1;33m)\u001b[0m\u001b[1;33m\u001b[0m\u001b[1;33m\u001b[0m\u001b[0m\n\u001b[0;32m    440\u001b[0m             \u001b[1;32mif\u001b[0m \u001b[0mmarkers\u001b[0m \u001b[1;32mis\u001b[0m \u001b[1;32mnot\u001b[0m \u001b[1;32mNone\u001b[0m\u001b[1;33m:\u001b[0m\u001b[1;33m\u001b[0m\u001b[1;33m\u001b[0m\u001b[0m\n",
      "\u001b[1;32m~\\anaconda3\\lib\\json\\encoder.py\u001b[0m in \u001b[0;36mdefault\u001b[1;34m(self, o)\u001b[0m\n\u001b[0;32m    177\u001b[0m \u001b[1;33m\u001b[0m\u001b[0m\n\u001b[0;32m    178\u001b[0m         \"\"\"\n\u001b[1;32m--> 179\u001b[1;33m         raise TypeError(f'Object of type {o.__class__.__name__} '\n\u001b[0m\u001b[0;32m    180\u001b[0m                         f'is not JSON serializable')\n\u001b[0;32m    181\u001b[0m \u001b[1;33m\u001b[0m\u001b[0m\n",
      "\u001b[1;31mTypeError\u001b[0m: Object of type Person is not JSON serializable"
     ]
    }
   ],
   "source": [
    "# as a string \n",
    "import json\n",
    "\n",
    "with open(\"demo.json\",\"w\") as f:\n",
    "    json.dump(person,f)"
   ]
  },
  {
   "cell_type": "code",
   "execution_count": 28,
   "id": "d16ece61",
   "metadata": {},
   "outputs": [],
   "source": [
    "# as a string \n",
    "import json\n",
    "\n",
    "def show_object(person):\n",
    "    if isinstance(person,Person):\n",
    "        return \"{} {} age -> {} gender -> {} \".format(person.fname,person.lname,person.age,person.gender)\n",
    "\n",
    "with open(\"demo.json\",\"w\") as f:\n",
    "    json.dump(person,f,default=show_object)"
   ]
  },
  {
   "cell_type": "code",
   "execution_count": 30,
   "id": "0156a6c7",
   "metadata": {},
   "outputs": [],
   "source": [
    "# as a dict \n",
    "import json\n",
    "\n",
    "def show_object(person):\n",
    "    if isinstance(person,Person):\n",
    "        return {\"name\":person.fname+\" \"+person.lname,\"age\":person.age,\"Gender\":person.gender}\n",
    "\n",
    "with open(\"demo.json\",\"w\") as f:\n",
    "    json.dump(person,f,default=show_object,indent=4)"
   ]
  },
  {
   "cell_type": "code",
   "execution_count": 33,
   "id": "e340e870",
   "metadata": {},
   "outputs": [
    {
     "name": "stdout",
     "output_type": "stream",
     "text": [
      "{'name': 'Nitish Singh', 'age': 33, 'Gender': 'male'}\n"
     ]
    }
   ],
   "source": [
    "# deserilization \n",
    "import json\n",
    "with open(\"demo.json\",\"r\") as f:\n",
    "    print(json.load(f))\n",
    "   "
   ]
  },
  {
   "cell_type": "code",
   "execution_count": 34,
   "id": "1b04d260",
   "metadata": {},
   "outputs": [
    {
     "name": "stdout",
     "output_type": "stream",
     "text": [
      "{'name': 'Nitish Singh', 'age': 33, 'Gender': 'male'}\n",
      "<class 'dict'>\n"
     ]
    }
   ],
   "source": [
    "import json\n",
    "with open(\"demo.json\",\"r\") as f:\n",
    "    d = json.load(f)\n",
    "    print(d)\n",
    "    print(type(d))\n",
    "   "
   ]
  },
  {
   "cell_type": "markdown",
   "id": "4f595992",
   "metadata": {},
   "source": [
    "#### Pickling \n",
    "*pickling* is the process whereby a pyhton object hierachy is converted into a byte stream and *unpickling* is the inverse operation, whereby a byte stream(from a binary file or bytes-like object) is converted back into an object hierachy"
   ]
  },
  {
   "cell_type": "code",
   "execution_count": 37,
   "id": "e0870415",
   "metadata": {},
   "outputs": [],
   "source": [
    "class Person:\n",
    "    def __init__(self,name,age):\n",
    "        self.name=name\n",
    "        self.age=age\n",
    "        \n",
    "    def display_info(self):\n",
    "        print(\"Hi my name is\",self.name, \"and i am \",self.age,\" years old\")\n",
    "        "
   ]
  },
  {
   "cell_type": "code",
   "execution_count": 38,
   "id": "903057ae",
   "metadata": {},
   "outputs": [],
   "source": [
    "p=Person(\"nitish\",33)"
   ]
  },
  {
   "cell_type": "code",
   "execution_count": 42,
   "id": "a7407286",
   "metadata": {},
   "outputs": [],
   "source": [
    "#pickle dump\n",
    "import pickle\n",
    "with open(\"person.pkl\",\"wb\") as f:\n",
    "    pickle.dump(p,f)"
   ]
  },
  {
   "cell_type": "code",
   "execution_count": 43,
   "id": "812946c7",
   "metadata": {},
   "outputs": [
    {
     "name": "stdout",
     "output_type": "stream",
     "text": [
      "Hi my name is nitish and i am  33  years old\n"
     ]
    }
   ],
   "source": [
    "import pickle \n",
    "with open(\"person.pkl\",\"rb\") as f:\n",
    "    p=pickle.load(f)\n",
    "    \n",
    "p.display_info()"
   ]
  },
  {
   "cell_type": "code",
   "execution_count": null,
   "id": "25e00810",
   "metadata": {},
   "outputs": [],
   "source": [
    "## pickle lets the user to store data i"
   ]
  }
 ],
 "metadata": {
  "kernelspec": {
   "display_name": "Python 3",
   "language": "python",
   "name": "python3"
  },
  "language_info": {
   "codemirror_mode": {
    "name": "ipython",
    "version": 3
   },
   "file_extension": ".py",
   "mimetype": "text/x-python",
   "name": "python",
   "nbconvert_exporter": "python",
   "pygments_lexer": "ipython3",
   "version": "3.8.8"
  }
 },
 "nbformat": 4,
 "nbformat_minor": 5
}
