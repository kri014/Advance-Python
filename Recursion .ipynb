{
 "cells": [
  {
   "cell_type": "code",
   "execution_count": 1,
   "id": "47decb65",
   "metadata": {},
   "outputs": [],
   "source": [
    "### Function calling himself  "
   ]
  },
  {
   "cell_type": "code",
   "execution_count": 2,
   "id": "fcb51e71",
   "metadata": {},
   "outputs": [],
   "source": [
    "def multiply(a,b):\n",
    "    result=0\n",
    "    for i in range(b):\n",
    "        result=result+a\n",
    "    print(result)"
   ]
  },
  {
   "cell_type": "code",
   "execution_count": 3,
   "id": "12d1b322",
   "metadata": {},
   "outputs": [
    {
     "name": "stdout",
     "output_type": "stream",
     "text": [
      "12\n"
     ]
    }
   ],
   "source": [
    "multiply(3,4)"
   ]
  },
  {
   "cell_type": "code",
   "execution_count": 4,
   "id": "950bef54",
   "metadata": {},
   "outputs": [
    {
     "name": "stdout",
     "output_type": "stream",
     "text": [
      "12\n"
     ]
    }
   ],
   "source": [
    "# by recursion \n",
    "# find the base case of the operation \n",
    "# 3+3+3+3\n",
    "# 3+3*3\n",
    "#3+3+2*3\n",
    "# 3+3+3+1*3\n",
    "def mul(a,b):\n",
    "    if b==1:\n",
    "        return a\n",
    "    else:\n",
    "        return a+mul(a,b-1)\n",
    "    \n",
    "print(mul(3,4))"
   ]
  },
  {
   "cell_type": "code",
   "execution_count": 5,
   "id": "5cb1104e",
   "metadata": {},
   "outputs": [],
   "source": [
    "# find factorial\n",
    "def fact(number):\n",
    "    if number == 1:\n",
    "        return 1\n",
    "    else:\n",
    "        # 5!=5*4!\n",
    "        return number*fact(number-1)\n",
    "        "
   ]
  },
  {
   "cell_type": "code",
   "execution_count": 6,
   "id": "5df8ab6d",
   "metadata": {},
   "outputs": [
    {
     "data": {
      "text/plain": [
       "120"
      ]
     },
     "execution_count": 6,
     "metadata": {},
     "output_type": "execute_result"
    }
   ],
   "source": [
    "fact(5)"
   ]
  },
  {
   "cell_type": "code",
   "execution_count": 7,
   "id": "35a685c3",
   "metadata": {},
   "outputs": [],
   "source": [
    "# Palindrome "
   ]
  },
  {
   "cell_type": "code",
   "execution_count": 8,
   "id": "e49a87ca",
   "metadata": {},
   "outputs": [],
   "source": [
    "#Base condtion ->\"d\" a single string is palindrome  "
   ]
  },
  {
   "cell_type": "code",
   "execution_count": 15,
   "id": "ad3508db",
   "metadata": {},
   "outputs": [],
   "source": [
    "def palin(text):\n",
    "    if len(text)<=1:\n",
    "        print(\"Palindrome\")\n",
    "    else:\n",
    "        if text[0]==text[-1]:\n",
    "            palin(text[1:-1])\n",
    "        else:\n",
    "            print(\"Not a Plaindrome \")"
   ]
  },
  {
   "cell_type": "code",
   "execution_count": 16,
   "id": "94bcdf26",
   "metadata": {},
   "outputs": [
    {
     "name": "stdout",
     "output_type": "stream",
     "text": [
      "Palindrome\n",
      "Palindrome\n",
      "Not a Plaindrome \n",
      "Palindrome\n"
     ]
    }
   ],
   "source": [
    "palin(\"madam\")\n",
    "palin(\"malayalam\")\n",
    "palin(\"python\")\n",
    "palin(\"abba\")"
   ]
  },
  {
   "cell_type": "code",
   "execution_count": 17,
   "id": "b63f6006",
   "metadata": {},
   "outputs": [],
   "source": [
    "## The rabit problem-> febonaci series "
   ]
  },
  {
   "cell_type": "code",
   "execution_count": 23,
   "id": "c57b1224",
   "metadata": {},
   "outputs": [
    {
     "name": "stdout",
     "output_type": "stream",
     "text": [
      "46368\n"
     ]
    }
   ],
   "source": [
    "def fib(m):\n",
    "    if m==0 or m==1:\n",
    "        return 1\n",
    "    else:\n",
    "        return fib(m-1)+fib(m-2)\n",
    "print(fib(23))"
   ]
  },
  {
   "cell_type": "code",
   "execution_count": 24,
   "id": "6e6a72c9",
   "metadata": {},
   "outputs": [
    {
     "name": "stdout",
     "output_type": "stream",
     "text": [
      "233\n"
     ]
    }
   ],
   "source": [
    "print(fib(12))"
   ]
  },
  {
   "cell_type": "code",
   "execution_count": 28,
   "id": "aadd237f",
   "metadata": {},
   "outputs": [
    {
     "name": "stdout",
     "output_type": "stream",
     "text": [
      "46368\n",
      "0.029511213302612305\n"
     ]
    }
   ],
   "source": [
    "import time\n",
    "def fib(m):\n",
    "    if m==0 or m==1:\n",
    "        return 1\n",
    "    else:\n",
    "        return fib(m-1)+fib(m-2)\n",
    "start=time.time()\n",
    "print(fib(23))\n",
    "print(time.time()-start)"
   ]
  },
  {
   "cell_type": "code",
   "execution_count": 26,
   "id": "93ef6f31",
   "metadata": {},
   "outputs": [
    {
     "name": "stdout",
     "output_type": "stream",
     "text": [
      "7778742049\n"
     ]
    }
   ],
   "source": [
    "# dynamic programming to solve the problem of double calculation of the number as in previous it will exponential time consuming \n",
    "def memo(m,d):\n",
    "    if m in d:\n",
    "        return d[m]\n",
    "    else:\n",
    "        d[m]=memo(m-1,d)+memo(m-2,d)\n",
    "        return d[m]\n",
    "d={0:1,1:1}\n",
    "print(memo(48,d))"
   ]
  },
  {
   "cell_type": "code",
   "execution_count": 29,
   "id": "b952d417",
   "metadata": {},
   "outputs": [
    {
     "name": "stdout",
     "output_type": "stream",
     "text": [
      "7778742049\n",
      "0.0\n"
     ]
    }
   ],
   "source": [
    "import time\n",
    "def memo(m,d):\n",
    "    if m in d:\n",
    "        return d[m]\n",
    "    else:\n",
    "        d[m]=memo(m-1,d)+memo(m-2,d)\n",
    "        return d[m]\n",
    "d={0:1,1:1}\n",
    "start=time.time()\n",
    "print(memo(48,d))\n",
    "print(time.time()-start)"
   ]
  },
  {
   "cell_type": "code",
   "execution_count": 30,
   "id": "2dc7c91f",
   "metadata": {},
   "outputs": [],
   "source": [
    "# find the power set of the given list"
   ]
  },
  {
   "cell_type": "code",
   "execution_count": null,
   "id": "6a5f8b67",
   "metadata": {},
   "outputs": [],
   "source": []
  }
 ],
 "metadata": {
  "kernelspec": {
   "display_name": "Python 3",
   "language": "python",
   "name": "python3"
  },
  "language_info": {
   "codemirror_mode": {
    "name": "ipython",
    "version": 3
   },
   "file_extension": ".py",
   "mimetype": "text/x-python",
   "name": "python",
   "nbconvert_exporter": "python",
   "pygments_lexer": "ipython3",
   "version": "3.8.8"
  }
 },
 "nbformat": 4,
 "nbformat_minor": 5
}
