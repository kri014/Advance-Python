{
 "cells": [
  {
   "cell_type": "markdown",
   "id": "25c6e677",
   "metadata": {},
   "source": [
    "There are 2 stages where error may happens in a program \n",
    "- During Compilation -> Syntax error\n",
    "- During Execution -> Exceptions"
   ]
  },
  {
   "cell_type": "markdown",
   "id": "a119313b",
   "metadata": {},
   "source": [
    "### Syntax Error \n",
    "1. Something in the program is not written according to the program\n",
    "2. Error is raised by the interpretor/compiler \n",
    "3. You can solve it by rectifying the program\n"
   ]
  },
  {
   "cell_type": "code",
   "execution_count": 2,
   "id": "0d94f05a",
   "metadata": {},
   "outputs": [
    {
     "ename": "SyntaxError",
     "evalue": "Missing parentheses in call to 'print'. Did you mean print(\"hello\")? (<ipython-input-2-838a41fe6b51>, line 2)",
     "output_type": "error",
     "traceback": [
      "\u001b[1;36m  File \u001b[1;32m\"<ipython-input-2-838a41fe6b51>\"\u001b[1;36m, line \u001b[1;32m2\u001b[0m\n\u001b[1;33m    print \"hello\"\u001b[0m\n\u001b[1;37m          ^\u001b[0m\n\u001b[1;31mSyntaxError\u001b[0m\u001b[1;31m:\u001b[0m Missing parentheses in call to 'print'. Did you mean print(\"hello\")?\n"
     ]
    }
   ],
   "source": [
    "# Example \n",
    "print \"hello\"\n"
   ]
  },
  {
   "cell_type": "markdown",
   "id": "0170b86a",
   "metadata": {},
   "source": [
    "Other example of syntax error \n",
    "1. Leaving symbols like colon, brackets \n",
    "2. Misssing a keywords \n",
    "3. Incorrect indentation \n",
    "4. epmty if/else/loops/class/functions\n"
   ]
  },
  {
   "cell_type": "code",
   "execution_count": 4,
   "id": "494738b4",
   "metadata": {},
   "outputs": [
    {
     "ename": "SyntaxError",
     "evalue": "invalid syntax (<ipython-input-4-b8fc20f72421>, line 2)",
     "output_type": "error",
     "traceback": [
      "\u001b[1;36m  File \u001b[1;32m\"<ipython-input-4-b8fc20f72421>\"\u001b[1;36m, line \u001b[1;32m2\u001b[0m\n\u001b[1;33m    if a==3\u001b[0m\n\u001b[1;37m           ^\u001b[0m\n\u001b[1;31mSyntaxError\u001b[0m\u001b[1;31m:\u001b[0m invalid syntax\n"
     ]
    }
   ],
   "source": [
    "a=5\n",
    "if a==3\n",
    "print(\"hello\")"
   ]
  },
  {
   "cell_type": "code",
   "execution_count": 5,
   "id": "698cb876",
   "metadata": {},
   "outputs": [
    {
     "ename": "SyntaxError",
     "evalue": "invalid syntax (<ipython-input-5-94418f7b8c94>, line 2)",
     "output_type": "error",
     "traceback": [
      "\u001b[1;36m  File \u001b[1;32m\"<ipython-input-5-94418f7b8c94>\"\u001b[1;36m, line \u001b[1;32m2\u001b[0m\n\u001b[1;33m    ifff a==5:\u001b[0m\n\u001b[1;37m         ^\u001b[0m\n\u001b[1;31mSyntaxError\u001b[0m\u001b[1;31m:\u001b[0m invalid syntax\n"
     ]
    }
   ],
   "source": [
    "a=5\n",
    "ifff a==5:\n",
    "    print(\"jello\")"
   ]
  },
  {
   "cell_type": "code",
   "execution_count": 7,
   "id": "c897b643",
   "metadata": {},
   "outputs": [
    {
     "ename": "IndentationError",
     "evalue": "expected an indented block (<ipython-input-7-1b7255d78feb>, line 3)",
     "output_type": "error",
     "traceback": [
      "\u001b[1;36m  File \u001b[1;32m\"<ipython-input-7-1b7255d78feb>\"\u001b[1;36m, line \u001b[1;32m3\u001b[0m\n\u001b[1;33m    print(\"jello\")\u001b[0m\n\u001b[1;37m    ^\u001b[0m\n\u001b[1;31mIndentationError\u001b[0m\u001b[1;31m:\u001b[0m expected an indented block\n"
     ]
    }
   ],
   "source": [
    "a=5\n",
    "if a==5:\n",
    "print(\"jello\")\n",
    "# this one also a syntax error "
   ]
  },
  {
   "cell_type": "code",
   "execution_count": 10,
   "id": "936ef7e6",
   "metadata": {},
   "outputs": [
    {
     "ename": "IndexError",
     "evalue": "list index out of range",
     "output_type": "error",
     "traceback": [
      "\u001b[1;31m---------------------------------------------------------------------------\u001b[0m",
      "\u001b[1;31mIndexError\u001b[0m                                Traceback (most recent call last)",
      "\u001b[1;32m<ipython-input-10-eda06cb9a3e4>\u001b[0m in \u001b[0;36m<module>\u001b[1;34m\u001b[0m\n\u001b[0;32m      2\u001b[0m \u001b[1;31m# The Index error is thrown when tyring to access an item at a invalid index\u001b[0m\u001b[1;33m\u001b[0m\u001b[1;33m\u001b[0m\u001b[1;33m\u001b[0m\u001b[0m\n\u001b[0;32m      3\u001b[0m \u001b[0ml\u001b[0m\u001b[1;33m=\u001b[0m\u001b[1;33m[\u001b[0m\u001b[1;36m1\u001b[0m\u001b[1;33m,\u001b[0m\u001b[1;36m2\u001b[0m\u001b[1;33m,\u001b[0m\u001b[1;36m3\u001b[0m\u001b[1;33m,\u001b[0m\u001b[1;36m4\u001b[0m\u001b[1;33m]\u001b[0m\u001b[1;33m\u001b[0m\u001b[1;33m\u001b[0m\u001b[0m\n\u001b[1;32m----> 4\u001b[1;33m \u001b[0ml\u001b[0m\u001b[1;33m[\u001b[0m\u001b[1;36m100\u001b[0m\u001b[1;33m]\u001b[0m\u001b[1;33m\u001b[0m\u001b[1;33m\u001b[0m\u001b[0m\n\u001b[0m",
      "\u001b[1;31mIndexError\u001b[0m: list index out of range"
     ]
    }
   ],
   "source": [
    "# Index Error \n",
    "# The Index error is thrown when tyring to access an item at a invalid index\n",
    "l=[1,2,3,4]\n",
    "l[100]"
   ]
  },
  {
   "cell_type": "code",
   "execution_count": 9,
   "id": "5dad57f2",
   "metadata": {},
   "outputs": [
    {
     "ename": "ModuleNotFoundError",
     "evalue": "No module named 'mathi'",
     "output_type": "error",
     "traceback": [
      "\u001b[1;31m---------------------------------------------------------------------------\u001b[0m",
      "\u001b[1;31mModuleNotFoundError\u001b[0m                       Traceback (most recent call last)",
      "\u001b[1;32m<ipython-input-9-cbdaf00191df>\u001b[0m in \u001b[0;36m<module>\u001b[1;34m\u001b[0m\n\u001b[0;32m      1\u001b[0m \u001b[1;31m# ModuleNotFoundError\u001b[0m\u001b[1;33m\u001b[0m\u001b[1;33m\u001b[0m\u001b[1;33m\u001b[0m\u001b[0m\n\u001b[0;32m      2\u001b[0m \u001b[1;31m# The ModuleNotFoundError is thrown when a module could not be found.\u001b[0m\u001b[1;33m\u001b[0m\u001b[1;33m\u001b[0m\u001b[1;33m\u001b[0m\u001b[0m\n\u001b[1;32m----> 3\u001b[1;33m \u001b[1;32mimport\u001b[0m \u001b[0mmathi\u001b[0m\u001b[1;33m\u001b[0m\u001b[1;33m\u001b[0m\u001b[0m\n\u001b[0m\u001b[0;32m      4\u001b[0m \u001b[0mmath\u001b[0m\u001b[1;33m.\u001b[0m\u001b[0mfloor\u001b[0m\u001b[1;33m(\u001b[0m\u001b[1;36m5.3\u001b[0m\u001b[1;33m)\u001b[0m\u001b[1;33m\u001b[0m\u001b[1;33m\u001b[0m\u001b[0m\n",
      "\u001b[1;31mModuleNotFoundError\u001b[0m: No module named 'mathi'"
     ]
    }
   ],
   "source": [
    "# ModuleNotFoundError\n",
    "# The ModuleNotFoundError is thrown when a module could not be found.\n",
    "import mathi\n",
    "math.floor(5.3)"
   ]
  },
  {
   "cell_type": "code",
   "execution_count": 11,
   "id": "7aed693f",
   "metadata": {},
   "outputs": [
    {
     "ename": "KeyError",
     "evalue": "'age'",
     "output_type": "error",
     "traceback": [
      "\u001b[1;31m---------------------------------------------------------------------------\u001b[0m",
      "\u001b[1;31mKeyError\u001b[0m                                  Traceback (most recent call last)",
      "\u001b[1;32m<ipython-input-11-2dff0a186cbf>\u001b[0m in \u001b[0;36m<module>\u001b[1;34m\u001b[0m\n\u001b[0;32m      2\u001b[0m \u001b[1;31m# The KeyError is thrown when a key is not found\u001b[0m\u001b[1;33m\u001b[0m\u001b[1;33m\u001b[0m\u001b[1;33m\u001b[0m\u001b[0m\n\u001b[0;32m      3\u001b[0m \u001b[0md\u001b[0m\u001b[1;33m=\u001b[0m\u001b[1;33m{\u001b[0m\u001b[1;34m\"name\"\u001b[0m\u001b[1;33m:\u001b[0m\u001b[1;34m\"krish\"\u001b[0m\u001b[1;33m}\u001b[0m\u001b[1;33m\u001b[0m\u001b[1;33m\u001b[0m\u001b[0m\n\u001b[1;32m----> 4\u001b[1;33m \u001b[0md\u001b[0m\u001b[1;33m[\u001b[0m\u001b[1;34m\"age\"\u001b[0m\u001b[1;33m]\u001b[0m\u001b[1;33m\u001b[0m\u001b[1;33m\u001b[0m\u001b[0m\n\u001b[0m",
      "\u001b[1;31mKeyError\u001b[0m: 'age'"
     ]
    }
   ],
   "source": [
    "# KeyError\n",
    "# The KeyError is thrown when a key is not found\n",
    "d={\"name\":\"krish\"}\n",
    "d[\"age\"]"
   ]
  },
  {
   "cell_type": "code",
   "execution_count": 13,
   "id": "e004de11",
   "metadata": {},
   "outputs": [
    {
     "ename": "TypeError",
     "evalue": "unsupported operand type(s) for +: 'int' and 'str'",
     "output_type": "error",
     "traceback": [
      "\u001b[1;31m---------------------------------------------------------------------------\u001b[0m",
      "\u001b[1;31mTypeError\u001b[0m                                 Traceback (most recent call last)",
      "\u001b[1;32m<ipython-input-13-6e21a58efcf7>\u001b[0m in \u001b[0;36m<module>\u001b[1;34m\u001b[0m\n\u001b[0;32m      1\u001b[0m \u001b[1;31m# Type Error\u001b[0m\u001b[1;33m\u001b[0m\u001b[1;33m\u001b[0m\u001b[1;33m\u001b[0m\u001b[0m\n\u001b[0;32m      2\u001b[0m \u001b[1;31m# The type error is thrown when an operation or functction is applied toan object of an inappropriate type\u001b[0m\u001b[1;33m\u001b[0m\u001b[1;33m\u001b[0m\u001b[1;33m\u001b[0m\u001b[0m\n\u001b[1;32m----> 3\u001b[1;33m \u001b[1;36m1\u001b[0m\u001b[1;33m+\u001b[0m\u001b[1;34m\"2\"\u001b[0m\u001b[1;33m\u001b[0m\u001b[1;33m\u001b[0m\u001b[0m\n\u001b[0m",
      "\u001b[1;31mTypeError\u001b[0m: unsupported operand type(s) for +: 'int' and 'str'"
     ]
    }
   ],
   "source": [
    "# Type Error \n",
    "# The type error is thrown when an operation or functction is applied toan object of an inappropriate type\n",
    "1+\"2\""
   ]
  },
  {
   "cell_type": "code",
   "execution_count": 14,
   "id": "c3e93f1f",
   "metadata": {},
   "outputs": [
    {
     "ename": "ValueError",
     "evalue": "invalid literal for int() with base 10: 'a'",
     "output_type": "error",
     "traceback": [
      "\u001b[1;31m---------------------------------------------------------------------------\u001b[0m",
      "\u001b[1;31mValueError\u001b[0m                                Traceback (most recent call last)",
      "\u001b[1;32m<ipython-input-14-ee7f8bfb2703>\u001b[0m in \u001b[0;36m<module>\u001b[1;34m\u001b[0m\n\u001b[0;32m      1\u001b[0m \u001b[1;31m# Value Error\u001b[0m\u001b[1;33m\u001b[0m\u001b[1;33m\u001b[0m\u001b[1;33m\u001b[0m\u001b[0m\n\u001b[0;32m      2\u001b[0m \u001b[1;31m# the value error is thrown when a function's arguments is of an inappropriate type\u001b[0m\u001b[1;33m\u001b[0m\u001b[1;33m\u001b[0m\u001b[1;33m\u001b[0m\u001b[0m\n\u001b[1;32m----> 3\u001b[1;33m \u001b[0mint\u001b[0m\u001b[1;33m(\u001b[0m\u001b[1;34m\"a\"\u001b[0m\u001b[1;33m)\u001b[0m\u001b[1;33m\u001b[0m\u001b[1;33m\u001b[0m\u001b[0m\n\u001b[0m",
      "\u001b[1;31mValueError\u001b[0m: invalid literal for int() with base 10: 'a'"
     ]
    }
   ],
   "source": [
    "# Value Error \n",
    "# the value error is thrown when a function's arguments is of an inappropriate type\n",
    "int(\"a\")"
   ]
  },
  {
   "cell_type": "code",
   "execution_count": 15,
   "id": "0d9dfb63",
   "metadata": {},
   "outputs": [
    {
     "ename": "NameError",
     "evalue": "name 'k' is not defined",
     "output_type": "error",
     "traceback": [
      "\u001b[1;31m---------------------------------------------------------------------------\u001b[0m",
      "\u001b[1;31mNameError\u001b[0m                                 Traceback (most recent call last)",
      "\u001b[1;32m<ipython-input-15-082ea3725498>\u001b[0m in \u001b[0;36m<module>\u001b[1;34m\u001b[0m\n\u001b[0;32m      1\u001b[0m \u001b[1;31m# Name error\u001b[0m\u001b[1;33m\u001b[0m\u001b[1;33m\u001b[0m\u001b[1;33m\u001b[0m\u001b[0m\n\u001b[1;32m----> 2\u001b[1;33m \u001b[0mprint\u001b[0m\u001b[1;33m(\u001b[0m\u001b[0mk\u001b[0m\u001b[1;33m)\u001b[0m\u001b[1;33m\u001b[0m\u001b[1;33m\u001b[0m\u001b[0m\n\u001b[0m",
      "\u001b[1;31mNameError\u001b[0m: name 'k' is not defined"
     ]
    }
   ],
   "source": [
    "# Name error\n",
    "# the name is not mentioned in any where in the program  \n",
    "print(k)\n"
   ]
  },
  {
   "cell_type": "code",
   "execution_count": 16,
   "id": "d9504bc4",
   "metadata": {},
   "outputs": [
    {
     "ename": "AttributeError",
     "evalue": "'list' object has no attribute 'upper'",
     "output_type": "error",
     "traceback": [
      "\u001b[1;31m---------------------------------------------------------------------------\u001b[0m",
      "\u001b[1;31mAttributeError\u001b[0m                            Traceback (most recent call last)",
      "\u001b[1;32m<ipython-input-16-8107581e0952>\u001b[0m in \u001b[0;36m<module>\u001b[1;34m\u001b[0m\n\u001b[0;32m      1\u001b[0m \u001b[1;31m# attribute error\u001b[0m\u001b[1;33m\u001b[0m\u001b[1;33m\u001b[0m\u001b[1;33m\u001b[0m\u001b[0m\n\u001b[0;32m      2\u001b[0m \u001b[0ml\u001b[0m\u001b[1;33m=\u001b[0m\u001b[1;33m[\u001b[0m\u001b[1;36m1\u001b[0m\u001b[1;33m,\u001b[0m\u001b[1;36m2\u001b[0m\u001b[1;33m,\u001b[0m\u001b[1;36m3\u001b[0m\u001b[1;33m]\u001b[0m\u001b[1;33m\u001b[0m\u001b[1;33m\u001b[0m\u001b[0m\n\u001b[1;32m----> 3\u001b[1;33m \u001b[0ml\u001b[0m\u001b[1;33m.\u001b[0m\u001b[0mupper\u001b[0m\u001b[1;33m(\u001b[0m\u001b[1;33m)\u001b[0m\u001b[1;33m\u001b[0m\u001b[1;33m\u001b[0m\u001b[0m\n\u001b[0m",
      "\u001b[1;31mAttributeError\u001b[0m: 'list' object has no attribute 'upper'"
     ]
    }
   ],
   "source": [
    "# attribute error \n",
    "l=[1,2,3]\n",
    "l.upper()"
   ]
  },
  {
   "cell_type": "markdown",
   "id": "fcb4435d",
   "metadata": {},
   "source": [
    "### Exceptions\n",
    "If things go wrong during the execution of the program(runtime). It generally happens when something unfooreseen has is happend.\n",
    "1. Exception are raised by the python runtime \n",
    "2. You have to takle is on the fly\n",
    "\n",
    "**Example**\n",
    "- Memory Overflow \n",
    "- Divided by 0-> logical error\n",
    "- Database Error "
   ]
  },
  {
   "cell_type": "code",
   "execution_count": 18,
   "id": "26abfd8e",
   "metadata": {},
   "outputs": [],
   "source": [
    "# Stacktrace - will gives the all the information of the error ite type, its description where is the error (location)"
   ]
  },
  {
   "cell_type": "code",
   "execution_count": 19,
   "id": "40165ccf",
   "metadata": {},
   "outputs": [],
   "source": [
    "# Why we need to handle the exception? \n",
    "# 1. User (to hide the dangerous error shown in screen ) \n",
    "# 2. Security Perpose (with this any hacker can't breach the code )\n"
   ]
  },
  {
   "cell_type": "code",
   "execution_count": 20,
   "id": "3bedd48c",
   "metadata": {},
   "outputs": [],
   "source": [
    "# try except block "
   ]
  },
  {
   "cell_type": "code",
   "execution_count": 21,
   "id": "859529c5",
   "metadata": {},
   "outputs": [],
   "source": [
    "# let's create a file \n",
    "with open(\"sample.txt\",\"w\") as f:\n",
    "    f.write(\"Hello World \")"
   ]
  },
  {
   "cell_type": "code",
   "execution_count": 22,
   "id": "f30743cc",
   "metadata": {},
   "outputs": [
    {
     "ename": "FileNotFoundError",
     "evalue": "[Errno 2] No such file or directory: 'sample1.txt'",
     "output_type": "error",
     "traceback": [
      "\u001b[1;31m---------------------------------------------------------------------------\u001b[0m",
      "\u001b[1;31mFileNotFoundError\u001b[0m                         Traceback (most recent call last)",
      "\u001b[1;32m<ipython-input-22-8bf294441e63>\u001b[0m in \u001b[0;36m<module>\u001b[1;34m\u001b[0m\n\u001b[0;32m      1\u001b[0m \u001b[1;31m# try catch\u001b[0m\u001b[1;33m\u001b[0m\u001b[1;33m\u001b[0m\u001b[1;33m\u001b[0m\u001b[0m\n\u001b[1;32m----> 2\u001b[1;33m \u001b[1;32mwith\u001b[0m \u001b[0mopen\u001b[0m\u001b[1;33m(\u001b[0m\u001b[1;34m\"sample1.txt\"\u001b[0m\u001b[1;33m,\u001b[0m\u001b[1;34m\"r\"\u001b[0m\u001b[1;33m)\u001b[0m \u001b[1;32mas\u001b[0m \u001b[0mf\u001b[0m\u001b[1;33m:\u001b[0m\u001b[1;33m\u001b[0m\u001b[1;33m\u001b[0m\u001b[0m\n\u001b[0m\u001b[0;32m      3\u001b[0m     \u001b[0mprint\u001b[0m\u001b[1;33m(\u001b[0m\u001b[0mf\u001b[0m\u001b[1;33m.\u001b[0m\u001b[0mread\u001b[0m\u001b[1;33m(\u001b[0m\u001b[1;33m)\u001b[0m\u001b[1;33m)\u001b[0m\u001b[1;33m\u001b[0m\u001b[1;33m\u001b[0m\u001b[0m\n",
      "\u001b[1;31mFileNotFoundError\u001b[0m: [Errno 2] No such file or directory: 'sample1.txt'"
     ]
    }
   ],
   "source": [
    "# try catch\n",
    "with open(\"sample1.txt\",\"r\") as f:\n",
    "    print(f.read())"
   ]
  },
  {
   "cell_type": "code",
   "execution_count": 25,
   "id": "1d9e769a",
   "metadata": {},
   "outputs": [
    {
     "name": "stdout",
     "output_type": "stream",
     "text": [
      "Sorry File not found\n"
     ]
    }
   ],
   "source": [
    "try:\n",
    "    with open(\"sample1.txt\",\"r\") as f:\n",
    "        print(f.read())\n",
    "except:\n",
    "    print(\"Sorry File not found\")"
   ]
  },
  {
   "cell_type": "code",
   "execution_count": 27,
   "id": "b9ec4fa1",
   "metadata": {},
   "outputs": [
    {
     "name": "stdout",
     "output_type": "stream",
     "text": [
      "Hello World \n",
      "some error occured\n"
     ]
    }
   ],
   "source": [
    "# Catching specific error \n",
    "try:\n",
    "    f =open(\"sample.txt\",\"r\")\n",
    "    print(f.read())\n",
    "    print(m)\n",
    "except:\n",
    "    print(\"some error occured\")"
   ]
  },
  {
   "cell_type": "code",
   "execution_count": 31,
   "id": "5e8cad1e",
   "metadata": {},
   "outputs": [
    {
     "name": "stdout",
     "output_type": "stream",
     "text": [
      "[Errno 2] No such file or directory: 'sample1.txt'\n"
     ]
    }
   ],
   "source": [
    "try:\n",
    "    f=open(\"sample1.txt\",\"r\")\n",
    "    print(f.read())\n",
    "except Exception as e:\n",
    "    print(e)"
   ]
  },
  {
   "cell_type": "code",
   "execution_count": 32,
   "id": "fab559b8",
   "metadata": {},
   "outputs": [
    {
     "name": "stdout",
     "output_type": "stream",
     "text": [
      "<built-in method with_traceback of FileNotFoundError object at 0x000001E0CEB89740>\n"
     ]
    }
   ],
   "source": [
    "try:\n",
    "    f=open(\"sample1.txt\",\"r\")\n",
    "    print(f.read())\n",
    "except Exception as e:\n",
    "    print(e.with_traceback)"
   ]
  },
  {
   "cell_type": "code",
   "execution_count": 33,
   "id": "011a4a6a",
   "metadata": {},
   "outputs": [
    {
     "name": "stdout",
     "output_type": "stream",
     "text": [
      "Hello World \n",
      "Varible not defined\n"
     ]
    }
   ],
   "source": [
    "try:\n",
    "    f=open(\"sample.txt\",\"r\")\n",
    "    print(f.read())\n",
    "    print(m)\n",
    "    print(5/0)\n",
    "except FileNotFoundError:\n",
    "    print(\"File Not Found\")\n",
    "except NameError:\n",
    "    print(\"Varible not defined\")\n",
    "except ZeroDivisionError:\n",
    "    print(\"Can't Divide by 0\")\n",
    "    \n",
    "except Exception as e:\n",
    "    print(e)"
   ]
  },
  {
   "cell_type": "code",
   "execution_count": 36,
   "id": "ff651c3e",
   "metadata": {},
   "outputs": [
    {
     "name": "stdout",
     "output_type": "stream",
     "text": [
      "Hello World \n",
      "3\n",
      "2.5\n",
      "list index out of range\n"
     ]
    }
   ],
   "source": [
    "try:\n",
    "    f=open(\"sample.txt\",\"r\")\n",
    "    m=3\n",
    "    print(f.read())\n",
    "    print(m)\n",
    "    print(5/2)\n",
    "    l=[1,2,3]\n",
    "    l[100]\n",
    "except FileNotFoundError:\n",
    "    print(\"File Not Found\")\n",
    "except NameError:\n",
    "    print(\"Varible not defined\")\n",
    "except ZeroDivisionError:\n",
    "    print(\"Can't Divide by 0\")\n",
    "    \n",
    "except Exception as e: # general exception to handle any error \n",
    "    print(e)"
   ]
  },
  {
   "cell_type": "code",
   "execution_count": 37,
   "id": "ccd48d86",
   "metadata": {},
   "outputs": [
    {
     "name": "stdout",
     "output_type": "stream",
     "text": [
      "[Errno 2] No such file or directory: 'sample1.txt'\n"
     ]
    }
   ],
   "source": [
    "try:\n",
    "    f=open(\"sample1.txt\",\"r\")\n",
    "    m=3\n",
    "    print(f.read())\n",
    "    print(m)\n",
    "    print(5/2)\n",
    "    l=[1,2,3]\n",
    "    l[100]\n",
    "    \n",
    "except Exception as e: \n",
    "    print(e)\n",
    "# the general exception allways comes at the end if not it will catch first\n",
    "except FileNotFoundError:\n",
    "    print(\"File Not Found\")\n",
    "except NameError:\n",
    "    print(\"Varible not defined\")\n",
    "except ZeroDivisionError:\n",
    "    print(\"Can't Divide by 0\")\n",
    "    \n"
   ]
  },
  {
   "cell_type": "code",
   "execution_count": 38,
   "id": "e30217e3",
   "metadata": {},
   "outputs": [],
   "source": [
    "# the general exception allways comes at the end if not it will catch first"
   ]
  },
  {
   "cell_type": "code",
   "execution_count": 41,
   "id": "2ac3343f",
   "metadata": {},
   "outputs": [
    {
     "name": "stdout",
     "output_type": "stream",
     "text": [
      "Hello World \n"
     ]
    }
   ],
   "source": [
    "# else block\n",
    "try:\n",
    "    f=open(\"sample.txt\",\"r\")\n",
    "except FileNotFoundError:\n",
    "    print(\"file not found\")\n",
    "except Exception:\n",
    "    print(\"some problem \")\n",
    "else:\n",
    "    print(f.read())"
   ]
  },
  {
   "cell_type": "code",
   "execution_count": 42,
   "id": "3a52f9c6",
   "metadata": {},
   "outputs": [
    {
     "name": "stdout",
     "output_type": "stream",
     "text": [
      "Hello World \n",
      "anyhow this will execute\n"
     ]
    }
   ],
   "source": [
    "# finally\n",
    "try:\n",
    "    f=open(\"sample.txt\",\"r\")\n",
    "except FileNotFoundError:\n",
    "    print(\"file not found\")\n",
    "except Exception:\n",
    "    print(\"some problem \")\n",
    "else:\n",
    "    print(f.read())\n",
    "finally:\n",
    "    print(\"anyhow this will execute\")"
   ]
  },
  {
   "cell_type": "code",
   "execution_count": 43,
   "id": "a849ab2c",
   "metadata": {},
   "outputs": [],
   "source": [
    "# raise Exception\n",
    "# In Python programming, exceptions are raised when errors occur at runtime. \n",
    "# We can also manually raise exceptions using the raise keyword.\n",
    "\n",
    "# We can optionally pass values to the exception to clarify why that exception was raised"
   ]
  },
  {
   "cell_type": "code",
   "execution_count": 46,
   "id": "b94d8459",
   "metadata": {},
   "outputs": [
    {
     "ename": "FileNotFoundError",
     "evalue": " File nahi mil raha hai ",
     "output_type": "error",
     "traceback": [
      "\u001b[1;31m---------------------------------------------------------------------------\u001b[0m",
      "\u001b[1;31mFileNotFoundError\u001b[0m                         Traceback (most recent call last)",
      "\u001b[1;32m<ipython-input-46-7baacd9d77ed>\u001b[0m in \u001b[0;36m<module>\u001b[1;34m\u001b[0m\n\u001b[1;32m----> 1\u001b[1;33m \u001b[1;32mraise\u001b[0m \u001b[0mFileNotFoundError\u001b[0m \u001b[1;33m(\u001b[0m\u001b[1;34m\" File nahi mil raha hai \"\u001b[0m\u001b[1;33m)\u001b[0m\u001b[1;33m\u001b[0m\u001b[1;33m\u001b[0m\u001b[0m\n\u001b[0m",
      "\u001b[1;31mFileNotFoundError\u001b[0m:  File nahi mil raha hai "
     ]
    }
   ],
   "source": [
    "raise FileNotFoundError (\" File nahi mil raha hai \")"
   ]
  },
  {
   "cell_type": "code",
   "execution_count": 47,
   "id": "4d9af7a6",
   "metadata": {},
   "outputs": [
    {
     "ename": "ZeroDivisionError",
     "evalue": "Nahi hoga re baba",
     "output_type": "error",
     "traceback": [
      "\u001b[1;31m---------------------------------------------------------------------------\u001b[0m",
      "\u001b[1;31mZeroDivisionError\u001b[0m                         Traceback (most recent call last)",
      "\u001b[1;32m<ipython-input-47-0cb26bb2d654>\u001b[0m in \u001b[0;36m<module>\u001b[1;34m\u001b[0m\n\u001b[1;32m----> 1\u001b[1;33m \u001b[1;32mraise\u001b[0m \u001b[0mZeroDivisionError\u001b[0m\u001b[1;33m(\u001b[0m\u001b[1;34m\"Nahi hoga re baba\"\u001b[0m\u001b[1;33m)\u001b[0m\u001b[1;33m\u001b[0m\u001b[1;33m\u001b[0m\u001b[0m\n\u001b[0m",
      "\u001b[1;31mZeroDivisionError\u001b[0m: Nahi hoga re baba"
     ]
    }
   ],
   "source": [
    "raise ZeroDivisionError(\"Nahi hoga re baba\")\n",
    "# Java\n",
    "# try->try\n",
    "# except->catch\n",
    "# raise-> throw"
   ]
  },
  {
   "cell_type": "code",
   "execution_count": 49,
   "id": "cd6ee1ec",
   "metadata": {},
   "outputs": [
    {
     "name": "stdout",
     "output_type": "stream",
     "text": [
      "5000\n"
     ]
    }
   ],
   "source": [
    "class Bank:\n",
    "    def __init__(self,balance):\n",
    "        self.balance=balance\n",
    "    def withdraw(self,amount):\n",
    "        if amount<0:\n",
    "            raise Exception(\"amount cannot be negative\")\n",
    "        if self.balance < amount:\n",
    "            raise Exception(\"Paise nai hai account me \")\n",
    "        self.balance=self.balance-amount\n",
    "obj=Bank(10000)\n",
    "try:\n",
    "    obj.withdraw(5000)\n",
    "except Exception as e:\n",
    "    print(e)\n",
    "else: \n",
    "    print(obj.balance)"
   ]
  },
  {
   "cell_type": "code",
   "execution_count": 50,
   "id": "b85f969b",
   "metadata": {},
   "outputs": [
    {
     "name": "stdout",
     "output_type": "stream",
     "text": [
      "amount cannot be negative\n"
     ]
    }
   ],
   "source": [
    "class Bank:\n",
    "    def __init__(self,balance):\n",
    "        self.balance=balance\n",
    "    def withdraw(self,amount):\n",
    "        if amount<0:\n",
    "            raise Exception(\"amount cannot be negative\")\n",
    "        if self.balance < amount:\n",
    "            raise Exception(\"Paise nai hai account me \")\n",
    "        self.balance=self.balance-amount\n",
    "obj=Bank(10000)\n",
    "try:\n",
    "    obj.withdraw(-5000)\n",
    "except Exception as e:\n",
    "    print(e)\n",
    "else: \n",
    "    print(obj.balance)"
   ]
  },
  {
   "cell_type": "code",
   "execution_count": 51,
   "id": "ad036a16",
   "metadata": {},
   "outputs": [
    {
     "name": "stdout",
     "output_type": "stream",
     "text": [
      "Paise nai hai account me \n"
     ]
    }
   ],
   "source": [
    "class Bank:\n",
    "    def __init__(self,balance):\n",
    "        self.balance=balance\n",
    "    def withdraw(self,amount):\n",
    "        if amount<0:\n",
    "            raise Exception(\"amount cannot be negative\")\n",
    "        if self.balance < amount:\n",
    "            raise Exception(\"Paise nai hai account me \")\n",
    "        self.balance=self.balance-amount\n",
    "obj=Bank(10000)\n",
    "try:\n",
    "    obj.withdraw(15000)\n",
    "except Exception as e:\n",
    "    print(e)\n",
    "else: \n",
    "    print(obj.balance)\n",
    "\n"
   ]
  },
  {
   "cell_type": "code",
   "execution_count": 52,
   "id": "2f1ec77b",
   "metadata": {},
   "outputs": [],
   "source": [
    "# Creating custom Exception "
   ]
  },
  {
   "cell_type": "code",
   "execution_count": 53,
   "id": "b2af3445",
   "metadata": {},
   "outputs": [
    {
     "name": "stdout",
     "output_type": "stream",
     "text": [
      "Paise nai hai account me \n"
     ]
    }
   ],
   "source": [
    "class MyException(Exception):\n",
    "    def __init__(self,message):\n",
    "        print(message)\n",
    "\n",
    "class Bank:\n",
    "    def __init__(self,balance):\n",
    "        self.balance=balance\n",
    "    def withdraw(self,amount):\n",
    "        if amount<0:\n",
    "            raise MyException(\"amount cannot be negative\")\n",
    "        if self.balance < amount:\n",
    "            raise MyException(\"Paise nai hai account me \")\n",
    "        self.balance=self.balance-amount\n",
    "obj=Bank(10000)\n",
    "try:\n",
    "    obj.withdraw(15000)\n",
    "except MyException as e:\n",
    "    pass\n",
    "else: \n",
    "    print(obj.balance)\n",
    "\n"
   ]
  },
  {
   "cell_type": "code",
   "execution_count": 59,
   "id": "9b4a1100",
   "metadata": {},
   "outputs": [
    {
     "name": "stdout",
     "output_type": "stream",
     "text": [
      "bhai Teri to lag gayi\n",
      "logout\n",
      "database Connection closed\n"
     ]
    }
   ],
   "source": [
    "class SecurityError(Exception):\n",
    "    def __init__(self,message):\n",
    "        print(message)\n",
    "    def logout(self):\n",
    "        print(\"logout\")\n",
    "        \n",
    "class Google:\n",
    "    def __init__(self,name,email,password,device):\n",
    "        self.name=name\n",
    "        self.email=email\n",
    "        self.password=password\n",
    "        self.device=device\n",
    "        \n",
    "    def login(self,email,password,device):\n",
    "        if device != self.device:\n",
    "            raise SecurityError(\"bhai Teri to lag gayi\")\n",
    "        if email == self.email and password==self.password:\n",
    "            print(\"welcome\")\n",
    "        else:\n",
    "            print(\"login Error\")\n",
    "            \n",
    "obj = Google(\"Nitish\",\"nitish@gmail.com\",'12345',\"andriod\")\n",
    "\n",
    "try:\n",
    "    obj.login(\"nitish@gmail.com\",\"12345\",\"windows\")\n",
    "except SecurityError as e:\n",
    "    e.logout()\n",
    "else:\n",
    "    print(obj.name)\n",
    "finally:\n",
    "    print(\"database Connection closed\")"
   ]
  },
  {
   "cell_type": "code",
   "execution_count": 61,
   "id": "69f27d6d",
   "metadata": {},
   "outputs": [
    {
     "name": "stdout",
     "output_type": "stream",
     "text": [
      "welcome\n",
      "Nitish\n",
      "database Connection closed\n"
     ]
    }
   ],
   "source": [
    "class SecurityError(Exception):\n",
    "    def __init__(self,message):\n",
    "        print(message)\n",
    "    def logout(self):\n",
    "        print(\"logout\")\n",
    "        \n",
    "class Google:\n",
    "    def __init__(self,name,email,password,device):\n",
    "        self.name=name\n",
    "        self.email=email\n",
    "        self.password=password\n",
    "        self.device=device\n",
    "        \n",
    "    def login(self,email,password,device):\n",
    "        if device != self.device:\n",
    "            raise SecurityError(\"bhai Teri to lag gayi\")\n",
    "        if email == self.email and password==self.password:\n",
    "            print(\"welcome\")\n",
    "        else:\n",
    "            print(\"login Error\")\n",
    "            \n",
    "obj = Google(\"Nitish\",\"nitish@gmail.com\",'12345',\"andriod\")\n",
    "\n",
    "try:\n",
    "    obj.login(\"nitish@gmail.com\",\"12345\",\"andriod\")\n",
    "except SecurityError as e:\n",
    "    e.logout()\n",
    "else:\n",
    "    print(obj.name)\n",
    "finally:\n",
    "    print(\"database Connection closed\")"
   ]
  },
  {
   "cell_type": "code",
   "execution_count": null,
   "id": "866e0f6d",
   "metadata": {},
   "outputs": [],
   "source": []
  }
 ],
 "metadata": {
  "kernelspec": {
   "display_name": "Python 3",
   "language": "python",
   "name": "python3"
  },
  "language_info": {
   "codemirror_mode": {
    "name": "ipython",
    "version": 3
   },
   "file_extension": ".py",
   "mimetype": "text/x-python",
   "name": "python",
   "nbconvert_exporter": "python",
   "pygments_lexer": "ipython3",
   "version": "3.8.8"
  }
 },
 "nbformat": 4,
 "nbformat_minor": 5
}
