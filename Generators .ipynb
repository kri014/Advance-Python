{
 "cells": [
  {
   "cell_type": "markdown",
   "id": "7af8f36f",
   "metadata": {},
   "source": [
    "### Generator\n",
    "Python generators are a simple way of creating iterators"
   ]
  },
  {
   "cell_type": "code",
   "execution_count": 1,
   "id": "2454bb70",
   "metadata": {},
   "outputs": [],
   "source": [
    "# iterable \n",
    "class mera_range:\n",
    "    def __init__(self,start,end):\n",
    "        self.start = start\n",
    "        self.end=end\n",
    "        \n",
    "    def __iter__(self):\n",
    "        return mera_range_iterator(self)\n",
    "    \n",
    "# iterator \n",
    "class mera_range_iterator:\n",
    "    def __init__(self,iterable_obj):\n",
    "        self.iterable=iterable_obj\n",
    "        \n",
    "    def __iter__(self):\n",
    "        return self\n",
    "    def __next__(self):\n",
    "        if self.iterable.start>=self.iterable.end:\n",
    "            raise StopIteration\n",
    "            \n",
    "        current = self.iterable.start\n",
    "        self.iterable.start+=1\n",
    "        return current"
   ]
  },
  {
   "cell_type": "markdown",
   "id": "48402b31",
   "metadata": {},
   "source": [
    "#### The Why "
   ]
  },
  {
   "cell_type": "code",
   "execution_count": 3,
   "id": "64b457cb",
   "metadata": {},
   "outputs": [
    {
     "data": {
      "text/plain": [
       "48"
      ]
     },
     "execution_count": 3,
     "metadata": {},
     "output_type": "execute_result"
    }
   ],
   "source": [
    "L = [x for x in range(100000)]\n",
    "\n",
    "# for i in L:\n",
    "    # print(i**2)\n",
    "import sys\n",
    "sys.getsizeof(L)\n",
    "# here the list take whole data at a time so it comsume more data \n",
    "x = range(100000)\n",
    "#for i in x:\n",
    "    #print(i**2)\n",
    "sys.getsizeof(x)\n",
    "# here the range is taking only one item and do the operation and shows the result so it consume only 48 byte"
   ]
  },
  {
   "cell_type": "markdown",
   "id": "c5c1cbff",
   "metadata": {},
   "source": [
    "#### A simple Example \n"
   ]
  },
  {
   "cell_type": "code",
   "execution_count": 4,
   "id": "e2e8c911",
   "metadata": {},
   "outputs": [],
   "source": [
    "def gen_demo():\n",
    "    yield \"first statement\"\n",
    "    yield \"Second statement\"\n",
    "    yield \"Third Statement\""
   ]
  },
  {
   "cell_type": "code",
   "execution_count": 13,
   "id": "cca362ce",
   "metadata": {},
   "outputs": [],
   "source": [
    "gen=gen_demo()"
   ]
  },
  {
   "cell_type": "code",
   "execution_count": 6,
   "id": "9260578a",
   "metadata": {},
   "outputs": [
    {
     "data": {
      "text/plain": [
       "<generator object gen_demo at 0x000001BA09420580>"
      ]
     },
     "execution_count": 6,
     "metadata": {},
     "output_type": "execute_result"
    }
   ],
   "source": [
    "gen"
   ]
  },
  {
   "cell_type": "code",
   "execution_count": 14,
   "id": "8562f2b2",
   "metadata": {},
   "outputs": [
    {
     "name": "stdout",
     "output_type": "stream",
     "text": [
      "first statement\n",
      "Second statement\n",
      "Third Statement\n"
     ]
    }
   ],
   "source": [
    "print(next(gen))\n",
    "print(next(gen))\n",
    "print(next(gen))"
   ]
  },
  {
   "cell_type": "code",
   "execution_count": 15,
   "id": "92af12d7",
   "metadata": {},
   "outputs": [
    {
     "ename": "StopIteration",
     "evalue": "",
     "output_type": "error",
     "traceback": [
      "\u001b[1;31m---------------------------------------------------------------------------\u001b[0m",
      "\u001b[1;31mStopIteration\u001b[0m                             Traceback (most recent call last)",
      "\u001b[1;32m<ipython-input-15-be0d7584d73f>\u001b[0m in \u001b[0;36m<module>\u001b[1;34m\u001b[0m\n\u001b[1;32m----> 1\u001b[1;33m \u001b[0mprint\u001b[0m\u001b[1;33m(\u001b[0m\u001b[0mnext\u001b[0m\u001b[1;33m(\u001b[0m\u001b[0mgen\u001b[0m\u001b[1;33m)\u001b[0m\u001b[1;33m)\u001b[0m\u001b[1;33m\u001b[0m\u001b[1;33m\u001b[0m\u001b[0m\n\u001b[0m",
      "\u001b[1;31mStopIteration\u001b[0m: "
     ]
    }
   ],
   "source": [
    "print(next(gen))\n",
    "# yeild statement already over "
   ]
  },
  {
   "cell_type": "markdown",
   "id": "ab8e1155",
   "metadata": {},
   "source": [
    "1. Generator is a function but normally there is no return statement it has yield statement.With the help of next we can get the value .\n",
    "2. "
   ]
  },
  {
   "cell_type": "code",
   "execution_count": 16,
   "id": "a9edcff6",
   "metadata": {},
   "outputs": [
    {
     "name": "stdout",
     "output_type": "stream",
     "text": [
      "first statement\n",
      "Second statement\n",
      "Third Statement\n"
     ]
    }
   ],
   "source": [
    "gen=gen_demo()\n",
    "for i in gen:\n",
    "    print(i)"
   ]
  },
  {
   "cell_type": "markdown",
   "id": "ec00f549",
   "metadata": {},
   "source": [
    "#### return vs yield"
   ]
  },
  {
   "cell_type": "markdown",
   "id": "23bc739e",
   "metadata": {},
   "source": [
    "1. In normal function after the return call the memory cleaned.\n",
    "2. But in generator is a special function temporory pause the opertion and remember the value of variable. if again call it start from at that position. "
   ]
  },
  {
   "cell_type": "markdown",
   "id": "31244522",
   "metadata": {},
   "source": [
    "#### Example 2\n"
   ]
  },
  {
   "cell_type": "code",
   "execution_count": 18,
   "id": "24593f9e",
   "metadata": {},
   "outputs": [],
   "source": [
    "def square (num):\n",
    "    for i in range(1,num+1):\n",
    "        yield i**2"
   ]
  },
  {
   "cell_type": "code",
   "execution_count": 22,
   "id": "b6f49806",
   "metadata": {},
   "outputs": [
    {
     "name": "stdout",
     "output_type": "stream",
     "text": [
      "1\n",
      "4\n",
      "9\n",
      "16\n",
      "25\n",
      "36\n",
      "49\n",
      "64\n",
      "81\n",
      "100\n"
     ]
    }
   ],
   "source": [
    "gen = square(10)\n",
    "print(next(gen))\n",
    "print(next(gen))\n",
    "print(next(gen))\n",
    "print(next(gen))\n",
    "print(next(gen))\n",
    "\n",
    "for i in gen:\n",
    "    print(i)"
   ]
  },
  {
   "cell_type": "markdown",
   "id": "c9935bd3",
   "metadata": {},
   "source": [
    "#### Range Function and generator "
   ]
  },
  {
   "cell_type": "code",
   "execution_count": 27,
   "id": "b580078b",
   "metadata": {},
   "outputs": [],
   "source": [
    "def mera_range(start,end):\n",
    "    for i in range(start,end):\n",
    "        yield i"
   ]
  },
  {
   "cell_type": "code",
   "execution_count": 28,
   "id": "7b2d1143",
   "metadata": {},
   "outputs": [
    {
     "name": "stdout",
     "output_type": "stream",
     "text": [
      "15\n",
      "16\n",
      "17\n",
      "18\n",
      "19\n",
      "20\n",
      "21\n",
      "22\n",
      "23\n",
      "24\n"
     ]
    }
   ],
   "source": [
    "gen = mera_range(15,25)\n",
    "for i in gen:\n",
    "    print(i)"
   ]
  },
  {
   "cell_type": "markdown",
   "id": "2916bd77",
   "metadata": {},
   "source": [
    "#### Generator Expression "
   ]
  },
  {
   "cell_type": "code",
   "execution_count": 29,
   "id": "4e7e5f26",
   "metadata": {},
   "outputs": [],
   "source": [
    "# list comprehension \n",
    "L = [i**2 for i in range(1,101)]"
   ]
  },
  {
   "cell_type": "code",
   "execution_count": 30,
   "id": "7b2346b9",
   "metadata": {},
   "outputs": [
    {
     "name": "stdout",
     "output_type": "stream",
     "text": [
      "1\n",
      "4\n",
      "9\n",
      "16\n",
      "25\n",
      "36\n",
      "49\n",
      "64\n",
      "81\n",
      "100\n",
      "121\n",
      "144\n",
      "169\n",
      "196\n",
      "225\n",
      "256\n",
      "289\n",
      "324\n",
      "361\n",
      "400\n",
      "441\n",
      "484\n",
      "529\n",
      "576\n",
      "625\n",
      "676\n",
      "729\n",
      "784\n",
      "841\n",
      "900\n",
      "961\n",
      "1024\n",
      "1089\n",
      "1156\n",
      "1225\n",
      "1296\n",
      "1369\n",
      "1444\n",
      "1521\n",
      "1600\n",
      "1681\n",
      "1764\n",
      "1849\n",
      "1936\n",
      "2025\n",
      "2116\n",
      "2209\n",
      "2304\n",
      "2401\n",
      "2500\n",
      "2601\n",
      "2704\n",
      "2809\n",
      "2916\n",
      "3025\n",
      "3136\n",
      "3249\n",
      "3364\n",
      "3481\n",
      "3600\n",
      "3721\n",
      "3844\n",
      "3969\n",
      "4096\n",
      "4225\n",
      "4356\n",
      "4489\n",
      "4624\n",
      "4761\n",
      "4900\n",
      "5041\n",
      "5184\n",
      "5329\n",
      "5476\n",
      "5625\n",
      "5776\n",
      "5929\n",
      "6084\n",
      "6241\n",
      "6400\n",
      "6561\n",
      "6724\n",
      "6889\n",
      "7056\n",
      "7225\n",
      "7396\n",
      "7569\n",
      "7744\n",
      "7921\n",
      "8100\n",
      "8281\n",
      "8464\n",
      "8649\n",
      "8836\n",
      "9025\n",
      "9216\n",
      "9409\n",
      "9604\n",
      "9801\n",
      "10000\n"
     ]
    }
   ],
   "source": [
    "gen=(i**2 for i in range(1,101))\n",
    "for i in gen:\n",
    "    print(i)"
   ]
  },
  {
   "cell_type": "markdown",
   "id": "6c64587d",
   "metadata": {},
   "source": [
    "#### Practical Example"
   ]
  },
  {
   "cell_type": "markdown",
   "id": "e33a62e8",
   "metadata": {},
   "source": [
    "#### Benefits of using Genertors "
   ]
  },
  {
   "cell_type": "markdown",
   "id": "1c442c35",
   "metadata": {},
   "source": [
    "#### 1.Ease of Implementation  "
   ]
  },
  {
   "cell_type": "code",
   "execution_count": 33,
   "id": "1f0ea16d",
   "metadata": {},
   "outputs": [],
   "source": [
    "# iterable \n",
    "class mera_range:\n",
    "    def __init__(self,start,end):\n",
    "        self.start = start\n",
    "        self.end=end\n",
    "        \n",
    "    def __iter__(self):\n",
    "        return mera_range_iterator(self)\n",
    "    \n",
    "# iterator \n",
    "class mera_range_iterator:\n",
    "    def __init__(self,iterable_obj):\n",
    "        self.iterable=iterable_obj\n",
    "        \n",
    "    def __iter__(self):\n",
    "        return self\n",
    "    def __next__(self):\n",
    "        if self.iterable.start>=self.iterable.end:\n",
    "            raise StopIteration\n",
    "            \n",
    "        current = self.iterable.start\n",
    "        self.iterable.start+=1\n",
    "        return current"
   ]
  },
  {
   "cell_type": "code",
   "execution_count": 34,
   "id": "8937e955",
   "metadata": {},
   "outputs": [],
   "source": [
    "# using genrator \n",
    "def mera_range(start,end):\n",
    "    for i in range(start,end):\n",
    "        yield i"
   ]
  },
  {
   "cell_type": "markdown",
   "id": "777947d0",
   "metadata": {},
   "source": [
    "#### 2. Memory Efficient"
   ]
  },
  {
   "cell_type": "code",
   "execution_count": 35,
   "id": "f9a719d8",
   "metadata": {},
   "outputs": [
    {
     "name": "stdout",
     "output_type": "stream",
     "text": [
      "Size of L in memory  824456\n",
      "Size of gen in memory  112\n"
     ]
    }
   ],
   "source": [
    "L = [x for x in range(100000)]\n",
    "gen = (x for x in range(100000))\n",
    "import sys\n",
    "print(\"Size of L in memory \",sys.getsizeof(L))\n",
    "print(\"Size of gen in memory \",sys.getsizeof(gen))\n"
   ]
  },
  {
   "cell_type": "markdown",
   "id": "8a4d5c04",
   "metadata": {},
   "source": [
    "#### 3. Repersenting Infinte streams "
   ]
  },
  {
   "cell_type": "code",
   "execution_count": 37,
   "id": "f0f2fa75",
   "metadata": {},
   "outputs": [],
   "source": [
    "def all_even():\n",
    "    n = 0\n",
    "    while True:\n",
    "        yield n\n",
    "        n+=2"
   ]
  },
  {
   "cell_type": "code",
   "execution_count": 39,
   "id": "6468a2cb",
   "metadata": {},
   "outputs": [
    {
     "data": {
      "text/plain": [
       "2"
      ]
     },
     "execution_count": 39,
     "metadata": {},
     "output_type": "execute_result"
    }
   ],
   "source": [
    "even_num_gen=all_even()\n",
    "next(even_num_gen)\n",
    "next(even_num_gen)"
   ]
  },
  {
   "cell_type": "markdown",
   "id": "395ff52d",
   "metadata": {},
   "source": [
    "#### 4. Chaining Generators "
   ]
  },
  {
   "cell_type": "code",
   "execution_count": 43,
   "id": "ca018240",
   "metadata": {},
   "outputs": [
    {
     "name": "stdout",
     "output_type": "stream",
     "text": [
      "4895\n"
     ]
    }
   ],
   "source": [
    "def febonacci_number(nums):\n",
    "    x,y=0,1\n",
    "    for i in range(nums):\n",
    "        x,y=y,x+y\n",
    "        yield x\n",
    "def square(nums):\n",
    "    for num in nums:\n",
    "        yield num**2\n",
    "print(sum(square(febonacci_number(10)))) \n"
   ]
  },
  {
   "cell_type": "code",
   "execution_count": null,
   "id": "c9949934",
   "metadata": {},
   "outputs": [],
   "source": []
  }
 ],
 "metadata": {
  "kernelspec": {
   "display_name": "Python 3",
   "language": "python",
   "name": "python3"
  },
  "language_info": {
   "codemirror_mode": {
    "name": "ipython",
    "version": 3
   },
   "file_extension": ".py",
   "mimetype": "text/x-python",
   "name": "python",
   "nbconvert_exporter": "python",
   "pygments_lexer": "ipython3",
   "version": "3.8.8"
  }
 },
 "nbformat": 4,
 "nbformat_minor": 5
}
